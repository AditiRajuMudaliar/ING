{
 "cells": [
  {
   "cell_type": "markdown",
   "id": "29af93e6",
   "metadata": {},
   "source": [
    "# Booleans\n",
    "\n",
    "A boolean is a data type that can take only two values: True or False.\n",
    "\n",
    "Numerically, True is 1, and False is 0.\n",
    "\n",
    "Let's check the exercise below;"
   ]
  },
  {
   "cell_type": "code",
   "execution_count": null,
   "id": "15caacad",
   "metadata": {},
   "outputs": [],
   "source": [
    "print(20 > 6)\n",
    "print(20 != 6)\n",
    "print(6 >= 6)\n",
    "print(20 == 6)"
   ]
  },
  {
   "cell_type": "markdown",
   "id": "2015b505",
   "metadata": {},
   "source": [
    "Values that are **0, None or Empty** are also considered False. Any other values are True.\n",
    "\n",
    "In the examples below, try to find if the print statement will be True or False. Then run the cell to see the result."
   ]
  },
  {
   "cell_type": "code",
   "execution_count": null,
   "id": "2dc629de",
   "metadata": {},
   "outputs": [],
   "source": [
    "# True or false?\n",
    "print(bool(\"Beautiful\"))\n",
    "print(bool(61))\n",
    "print(bool([\"melon\", \"kofte\", \"brownie\"]))"
   ]
  },
  {
   "cell_type": "code",
   "execution_count": null,
   "id": "8453ff84",
   "metadata": {},
   "outputs": [],
   "source": [
    "# True or false?\n",
    "\n",
    "print(bool([]))\n",
    "print(bool(\"\"))\n",
    "print(bool(False))\n",
    "print(bool(None))\n",
    "print(bool(0))"
   ]
  },
  {
   "cell_type": "markdown",
   "id": "e309cde6",
   "metadata": {},
   "source": [
    "There are special operators that can produce a result that is a boolean. Those operators are called **Comparison Operators** and are:\n",
    "\n",
    "| Operator | Name | Example | \n",
    "|:--------:|:----:|:-------:| \n",
    "| == | Equal | x == y | \n",
    "| != | Not equal | x != y | \n",
    "| > | Greater than | x > y | \n",
    "| < | Less than | x < y | \n",
    "| >= | Greater than or equal to | x >= y | \n",
    "| <= | Less than or equal to | x <= y | \n"
   ]
  },
  {
   "cell_type": "code",
   "execution_count": null,
   "id": "dcd64ebd",
   "metadata": {},
   "outputs": [],
   "source": [
    "# Is is True or False? \n",
    "\n",
    "print(5 > 8)"
   ]
  },
  {
   "cell_type": "code",
   "execution_count": null,
   "id": "c5897674",
   "metadata": {},
   "outputs": [],
   "source": [
    "# Is is True or False? \n",
    "\n",
    "print(\"b\" == \"b\")"
   ]
  },
  {
   "cell_type": "code",
   "execution_count": null,
   "id": "35a61e83",
   "metadata": {},
   "outputs": [],
   "source": [
    "# Is is True or False? \n",
    "\n",
    "print(8 == 4) # equals"
   ]
  },
  {
   "cell_type": "code",
   "execution_count": null,
   "id": "4e6c3f74",
   "metadata": {},
   "outputs": [],
   "source": [
    "# Is is True or False? \n",
    "\n",
    "print(8 != 4) # not equals"
   ]
  },
  {
   "cell_type": "code",
   "execution_count": null,
   "id": "3c665daf",
   "metadata": {},
   "outputs": [],
   "source": [
    "# Guess the output\n",
    "\n",
    "name = \"Bella\"\n",
    "job = \"programmer\"\n",
    "\n",
    "print(name == job)"
   ]
  },
  {
   "cell_type": "markdown",
   "id": "b15b9647",
   "metadata": {},
   "source": [
    "#### Boolean operators\n",
    "\n",
    "\n",
    "Booleans can be combined using the following operators: \n",
    "\n",
    "* **and**: produces True if all booleans are True, else produces False\n",
    "* **or**: produces True if at least one of the booleans is True, else produces False\n",
    "* **not**: inverts the value of the given boolean, True -> False, False -> True"
   ]
  },
  {
   "cell_type": "code",
   "execution_count": null,
   "id": "bb4a0ad3",
   "metadata": {},
   "outputs": [],
   "source": [
    "# Guess the output\n",
    "\n",
    "option_true = True\n",
    "option_false = False\n",
    "\n",
    "print(option_true and option_false)\n",
    "print(option_true or option_false)\n",
    "print(not option_false)\n",
    "print(not option_true)"
   ]
  },
  {
   "cell_type": "markdown",
   "id": "3cc1a6b9",
   "metadata": {},
   "source": [
    "# If statement\n",
    "\n",
    "A Python program can decide what to do next if a certain condition is True or False by using **if statements**."
   ]
  },
  {
   "cell_type": "code",
   "execution_count": null,
   "id": "9d2ea342",
   "metadata": {},
   "outputs": [],
   "source": [
    "if (20 > 6):\n",
    "    print(\"This is the right choice\")\n",
    "else:\n",
    "    print(\"This can never be true\")\n",
    "print(\"---\")"
   ]
  },
  {
   "cell_type": "markdown",
   "id": "0339c215",
   "metadata": {},
   "source": [
    "If the result of a boolean expression is True, the code within the if statement will be executed.\n",
    "\n",
    "The code that is considered **within** the IF statement is defined by the identation of the code. It looks like this:\n",
    "\n",
    "`if <BOOLEAN STATEMENT HERE>:\n",
    "<tab> COMMAND inside the if statement\n",
    "<tab> COMMAND inside the if statement\n",
    "COMMAND outside the if statement`\n"
   ]
  },
  {
   "cell_type": "markdown",
   "id": "96745585",
   "metadata": {},
   "source": [
    "Let's try another exercise"
   ]
  },
  {
   "cell_type": "code",
   "execution_count": null,
   "id": "15031f32",
   "metadata": {},
   "outputs": [],
   "source": [
    "# Pay attention to the execution order\n",
    "\n",
    "my_favorite_colour = \"pink\"\n",
    "\n",
    "if (my_favorite_colour == \"red\"):\n",
    "    print(\"The colour i like is red!!!\")\n",
    "print(\"These line will always be executed.\")\n",
    "print(\"They are outside the if statement.\")\n",
    "print(\"---\")"
   ]
  },
  {
   "cell_type": "markdown",
   "id": "2ca80288",
   "metadata": {},
   "source": [
    "The **else** part is used to control the outcome if the boolean statement results to False."
   ]
  },
  {
   "cell_type": "code",
   "execution_count": null,
   "id": "683a93eb",
   "metadata": {},
   "outputs": [],
   "source": [
    "my_favorite_colour = \"pink\"\n",
    "\n",
    "if (my_favorite_colour == \"red\"):\n",
    "    print(\"The colour i like is red!!!\")\n",
    "else:\n",
    "    print(\"The colour i like is pink!!\")"
   ]
  },
  {
   "cell_type": "markdown",
   "id": "2d3439ca",
   "metadata": {},
   "source": [
    "Now, let's see the if condition in a list"
   ]
  },
  {
   "cell_type": "code",
   "execution_count": null,
   "id": "8a3b29a0",
   "metadata": {},
   "outputs": [],
   "source": [
    "fruits = [\"strawberry\", \"grapes\", \"banana\"]\n",
    "\n",
    "if (\"raspberry\" in fruits):\n",
    "    print(\"Yes! These are the fruits! \" + str(fruits))\n",
    "else:\n",
    "    print(\"No! This is False!\")\n",
    "\n"
   ]
  },
  {
   "cell_type": "code",
   "execution_count": null,
   "id": "7c6f233a",
   "metadata": {},
   "outputs": [],
   "source": [
    "fruits = [\"strawberry\", \"grapes\", \"banana\"]\n",
    "\n",
    "if(\"grapes\" in fruits):\n",
    "    print(\"Yes! These are the fruits! \" + str(fruits))\n",
    "else:\n",
    "    print(\"No! This is False!\")"
   ]
  },
  {
   "cell_type": "markdown",
   "id": "3e70564b",
   "metadata": {},
   "source": [
    "# Loops\n",
    "\n",
    "Using loops in Python we can automate and repeat tasks in an efficient manner.\n",
    "\n",
    "Using a `for` loop, we can iterate over each item present and executes the same set of operations. \n",
    "\n",
    "`while` loops will execute until a condition is true,\n",
    "\n",
    "Let’s understand this with an example.\n",
    "    \n",
    "- **An unknown number of times:**\n",
    "For example, Ask the user to guess the lucky number. You don’t know how many attempts the user will need to guess correctly. It can be 1, 20, or maybe indefinite. In such cases, use a `while` loop.\n",
    "\n",
    "\n",
    "- **Fixed number of times:**\n",
    "Print the multiplication table of 2. In this case, you know how many iterations you need. Here you need 10 iterations. In such a case use `for` loop.\n"
   ]
  },
  {
   "cell_type": "markdown",
   "id": "3131e5d6",
   "metadata": {},
   "source": [
    "Let's see more examples with code below:"
   ]
  },
  {
   "cell_type": "markdown",
   "id": "13168534",
   "metadata": {},
   "source": [
    "## For loop"
   ]
  },
  {
   "cell_type": "code",
   "execution_count": null,
   "id": "59440b17",
   "metadata": {},
   "outputs": [],
   "source": [
    "cars = [\"bmw\", \"cadillac\", \"jeep\"]\n",
    "\n",
    "for a in cars:\n",
    "    print(a)"
   ]
  },
  {
   "cell_type": "code",
   "execution_count": null,
   "id": "ef0eebf6",
   "metadata": {},
   "outputs": [],
   "source": [
    "# You can also loop through a string\n",
    "\n",
    "for x in \"cadillac\":\n",
    "    print(x)"
   ]
  },
  {
   "cell_type": "code",
   "execution_count": null,
   "id": "f4528658",
   "metadata": {},
   "outputs": [],
   "source": [
    "# range(6) -> [0, 1, 2, 3, 4, 5]\n",
    "\n",
    "for this_item in range(6):\n",
    "    print(this_item)\n",
    "else:\n",
    "    print(\"This is the else :) \")"
   ]
  },
  {
   "cell_type": "code",
   "execution_count": null,
   "id": "5e638a27",
   "metadata": {},
   "outputs": [],
   "source": [
    "# range(6) -> [6, 7, 8]\n",
    "\n",
    "for this_item in range(6, 9):\n",
    "    print(this_item)\n",
    "else:\n",
    "    print(\"This is the else :) \")"
   ]
  },
  {
   "cell_type": "code",
   "execution_count": null,
   "id": "7299ae99",
   "metadata": {},
   "outputs": [],
   "source": [
    "# For loops together with if conditions \n",
    "\n",
    "cars = [\"bmw\", \"cadillac\", \"jeep\"]\n",
    "car_i_like = 'jeep'\n",
    "\n",
    "\n",
    "for car in cars:\n",
    "    if car == car_i_like: \n",
    "        print(car, \"! Yes please!\")\n",
    "    else:\n",
    "        print(car, \"? Sorry honey!\")\n",
    "    print(\"-\")\n"
   ]
  },
  {
   "cell_type": "markdown",
   "id": "c8fab0e8",
   "metadata": {},
   "source": [
    "#### Nested for loops\n",
    "\n",
    "\n",
    "Nested for loop is a `for` loop inside another `for` a loop.\n",
    "\n",
    "In nested loops, the inner loop is executed for each iteration of the outer loop. \n",
    "\n",
    "**Syntax of nested for loops:**\n",
    "\n",
    "```python\n",
    "# outer for loop\n",
    "for i in sequence1\n",
    "    # inner_for_loop\n",
    "    for j in sequence2:\n",
    "        body_of_inner_for_loop\n",
    "    body_of_outer_for_loop\n",
    "other_statements\n",
    "```"
   ]
  },
  {
   "cell_type": "code",
   "execution_count": null,
   "id": "c8b04be3",
   "metadata": {},
   "outputs": [],
   "source": [
    "# For loop inside another for loop \n",
    "\n",
    "cars = [\"bmw\", \"cadillac\", \"jeep\"]\n",
    "car_i_like = 'jeep'\n",
    "tires = [\"winter tires\", \"summer tires\", \"flat tires\"]\n",
    "\n",
    "\n",
    "for car in cars:\n",
    "    for tire in tires:\n",
    "        if car == car_i_like: \n",
    "            print(\"My favorite car is a\", car, \"and it has\", tire)\n",
    "        else:\n",
    "            print(\"I don't like the\", car)"
   ]
  },
  {
   "cell_type": "code",
   "execution_count": null,
   "id": "524c11d4",
   "metadata": {},
   "outputs": [],
   "source": [
    "# Guess the output. Read carefully!\n",
    "\n",
    "my_dog_names = ['cookie', 'peanut', 'python']\n",
    "for dog in my_dog_names:\n",
    "    if dog == 'Peanut':\n",
    "        print('Yes!')\n",
    "    elif dog == \"cookie\":\n",
    "        print('Yes!')\n",
    "    else:\n",
    "        print('Too bad!')"
   ]
  },
  {
   "cell_type": "markdown",
   "id": "72fe266b",
   "metadata": {},
   "source": [
    "## While loop\n",
    "\n",
    "\n",
    "The while statement is used for repeated execution as long as an expression is true:\n",
    "\n",
    "```python\n",
    "while <BOOLEAN STATEMENT HERE>::\n",
    "    COMMAND_inside_the_while\n",
    "```"
   ]
  },
  {
   "cell_type": "code",
   "execution_count": null,
   "id": "676f1038",
   "metadata": {},
   "outputs": [],
   "source": [
    "coffees_to_be_happy = 5\n",
    "coffees_until_now = 0\n",
    "\n",
    "while coffees_until_now < coffees_to_be_happy:\n",
    "    print('I need more coffee')\n",
    "    print('Drinking', coffees_until_now + 1, 'coffee')\n",
    "    coffees_until_now = coffees_until_now +1\n",
    "    print(\"-\")\n",
    "print(\"I am happy now.\")"
   ]
  },
  {
   "cell_type": "markdown",
   "id": "de0faaee",
   "metadata": {},
   "source": [
    "### Exercise:\n",
    "\n",
    "Using a for loop, print the following:\n",
    "\n",
    "`\n",
    "-10\n",
    "-9\n",
    "-8\n",
    "-7\n",
    "-6\n",
    "-5\n",
    "-4\n",
    "-3\n",
    "-2\n",
    "-1\n",
    "0\n",
    "`"
   ]
  },
  {
   "cell_type": "code",
   "execution_count": null,
   "id": "90800c62",
   "metadata": {},
   "outputs": [],
   "source": [
    "starting_number =\n",
    "\n",
    "for i in range():\n",
    "    # ADD your code here"
   ]
  },
  {
   "cell_type": "markdown",
   "id": "1d1bbc7b",
   "metadata": {},
   "source": [
    "## Bonus section: Loop Control Statements\n",
    "\n",
    "Loop control statements change the normal flow of execution. They are used when you want to exit a loop or skip a part of the loop based on the given condition.\n",
    "\n",
    "Now, let us learn about the three types of loop control statements --> `break`, `continue`.\n",
    "\n",
    "**Break**\n",
    "\n",
    "The `break` statement is used to terminate the loop. You can use the break statement whenever you want to stop the loop. \n",
    "\n",
    "When the `break` statement is encountered, Python stops the current loop, and the control flow is transferred to the following line of code immediately following the loop.\n",
    "\n",
    "**Example of break in a for loop**"
   ]
  },
  {
   "cell_type": "code",
   "execution_count": null,
   "id": "39d58f59",
   "metadata": {},
   "outputs": [],
   "source": [
    "# break example\n",
    "\n",
    "numbers = [1, 4, 7, 8, 15, 20, 35, 45, 55]\n",
    "for i in numbers:\n",
    "    if i > 15:\n",
    "        # break the loop\n",
    "        break\n",
    "    else:\n",
    "        print(i)"
   ]
  },
  {
   "cell_type": "markdown",
   "id": "4589787a",
   "metadata": {},
   "source": [
    "With the break statement we can stop the loop even if the while condition is true:\n",
    "\n",
    "**Example of break in a while loop**"
   ]
  },
  {
   "cell_type": "code",
   "execution_count": null,
   "id": "6cd4b5eb",
   "metadata": {},
   "outputs": [],
   "source": [
    "# Exit the loop when i is 3:\n",
    "\n",
    "i = 1\n",
    "while i < 6:\n",
    "    print(i)\n",
    "    if i == 3:\n",
    "        break\n",
    "    i += 1 # This is another way of writing i = i + 1"
   ]
  },
  {
   "cell_type": "markdown",
   "id": "b833cdb6",
   "metadata": {},
   "source": [
    "**Continue Statement**\n",
    "\n",
    "The `continue` statement skips the current iteration of the loop only. It doesn’t terminate the loop but continues in the next iteration. Let us see the usage of the continue statement with an example.\n",
    "\n",
    "**Example of continue in a for loop**\n",
    "\n",
    "Count the total number of ‘o’ in a given string.\n",
    "\n",
    "- In this program, the `for` loop statement iterates over each letter of a given string.\n",
    "- Next, the if statement checks the current character is m or not. If it is not m, it continues to the next iteration to check the following letter. else it increments the count\n",
    "\n",
    "With the continue statement we can stop the current iteration, and continue with the next:"
   ]
  },
  {
   "cell_type": "code",
   "execution_count": null,
   "id": "c5d0b090",
   "metadata": {},
   "outputs": [],
   "source": [
    "name = \"Do your thing!\"\n",
    "count = 0\n",
    "for char in name:\n",
    "    if char != 'o':\n",
    "        continue\n",
    "        # code here never gets executed\n",
    "    count = count + 1\n",
    "\n",
    "print('Total number of o is:', count)"
   ]
  },
  {
   "cell_type": "markdown",
   "id": "2678d75a",
   "metadata": {},
   "source": [
    "**Example of continue in a while loop**\n",
    "\n",
    "Continue to the next iteration if **i** is 3:\n"
   ]
  },
  {
   "cell_type": "code",
   "execution_count": null,
   "id": "9bd77db4",
   "metadata": {},
   "outputs": [],
   "source": [
    "i = 0\n",
    "while i < 6:\n",
    "    i += 1 # This is another way of writing i = i + 1\n",
    "    if i == 3:\n",
    "        continue\n",
    "    print(i)"
   ]
  },
  {
   "cell_type": "markdown",
   "id": "c17bf01a",
   "metadata": {},
   "source": [
    "# Dictionaries\n",
    "\n",
    "A python dictionary is a collection of items. It contains data as a set of **key**: **value** pairs."
   ]
  },
  {
   "cell_type": "code",
   "execution_count": null,
   "id": "9594dfe8",
   "metadata": {},
   "outputs": [],
   "source": [
    "capitals = {\"germany\": \"berlin\",\n",
    "             \"italy\": \"rome\",\n",
    "             \"spain\": \"madrid\"}"
   ]
  },
  {
   "cell_type": "markdown",
   "id": "e9a2724c",
   "metadata": {},
   "source": [
    "To access a value in a dictionary, simply use the **key** of the pair within **[ ]** after the name of the dictionary. "
   ]
  },
  {
   "cell_type": "code",
   "execution_count": null,
   "id": "b8934175",
   "metadata": {},
   "outputs": [],
   "source": [
    "capitals[\"germany\"]"
   ]
  },
  {
   "cell_type": "markdown",
   "id": "c387e177",
   "metadata": {},
   "source": [
    "More examples:"
   ]
  },
  {
   "cell_type": "code",
   "execution_count": null,
   "id": "8c3fd1e0",
   "metadata": {},
   "outputs": [],
   "source": [
    "# Find the city value in the dictionary\n",
    "\n",
    "myself = {\n",
    "  \"name\": \"Bella\",\n",
    "  \"city\": \"Amsterdam\",\n",
    "  \"year\": 2023\n",
    "}\n",
    "print(myself[\"city\"])"
   ]
  },
  {
   "cell_type": "code",
   "execution_count": null,
   "id": "277640cb",
   "metadata": {},
   "outputs": [],
   "source": [
    "myself = {\n",
    "  \"name\": \"Bella\",\n",
    "  \"city\": \"Amsterdam\",\n",
    "  \"year\": 2023,\n",
    "  \"favorite_food\": [\"kofte\", \"shwarma\", \"steak\", \"fries\"]\n",
    "}\n",
    "print(myself[\"favorite_food\"])"
   ]
  },
  {
   "cell_type": "code",
   "execution_count": null,
   "id": "76632591",
   "metadata": {},
   "outputs": [],
   "source": [
    "# Length of the dictionary\n",
    "print(\"Dictionary:\", myself)\n",
    "print(\"-\")\n",
    "print(len(myself))\n"
   ]
  },
  {
   "cell_type": "markdown",
   "id": "eb24f983",
   "metadata": {},
   "source": [
    "### Exercise 1"
   ]
  },
  {
   "cell_type": "code",
   "execution_count": null,
   "id": "4f366b8c",
   "metadata": {},
   "outputs": [],
   "source": [
    "# Create a dictionary with information about the weather of a city.\n",
    "# Include information such as: place, temperature, wind direction, wind speed etc\n",
    "# then using the dictionary print these information\n",
    "\n",
    "weather_info = {'city': ''}"
   ]
  },
  {
   "cell_type": "markdown",
   "id": "04346c82",
   "metadata": {},
   "source": [
    "## Exercise 2\n",
    "\n",
    "Fix the information below.\n",
    "\n",
    "*Hint: The capital of switzerland is Bern*"
   ]
  },
  {
   "cell_type": "code",
   "execution_count": null,
   "id": "7e48555e",
   "metadata": {},
   "outputs": [],
   "source": [
    "capitals = {\"germany\": \"berlin\",\n",
    "             \"italy\": \"rome\",\n",
    "             \"spain\": \"madrid\",\n",
    "             \"switzerland\": \"geneva\"}"
   ]
  }
 ],
 "metadata": {
  "kernelspec": {
   "display_name": "Python 3 (ipykernel)",
   "language": "python",
   "name": "python3"
  },
  "language_info": {
   "codemirror_mode": {
    "name": "ipython",
    "version": 3
   },
   "file_extension": ".py",
   "mimetype": "text/x-python",
   "name": "python",
   "nbconvert_exporter": "python",
   "pygments_lexer": "ipython3",
   "version": "3.9.13"
  }
 },
 "nbformat": 4,
 "nbformat_minor": 5
}
