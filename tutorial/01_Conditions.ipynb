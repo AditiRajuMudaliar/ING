{
 "cells": [
  {
   "cell_type": "markdown",
   "id": "29af93e6",
   "metadata": {},
   "source": [
    "# Booleans\n",
    "\n",
    "In programming, you have to know if an expression is True or False. True or False values are represented with Boolean. True is 1, and False is 0.\n",
    "\n",
    "Let's check the exercise below;"
   ]
  },
  {
   "cell_type": "code",
   "execution_count": 1,
   "id": "15caacad",
   "metadata": {},
   "outputs": [
    {
     "name": "stdout",
     "output_type": "stream",
     "text": [
      "True\n"
     ]
    }
   ],
   "source": [
    "print(20>6)"
   ]
  },
  {
   "cell_type": "code",
   "execution_count": 2,
   "id": "dcd64ebd",
   "metadata": {},
   "outputs": [
    {
     "name": "stdout",
     "output_type": "stream",
     "text": [
      "False\n"
     ]
    }
   ],
   "source": [
    "print(5>8)"
   ]
  },
  {
   "cell_type": "code",
   "execution_count": 3,
   "id": "c5897674",
   "metadata": {},
   "outputs": [
    {
     "name": "stdout",
     "output_type": "stream",
     "text": [
      "True\n"
     ]
    }
   ],
   "source": [
    "print(\"b\"==\"b\")"
   ]
  },
  {
   "cell_type": "code",
   "execution_count": 4,
   "id": "35a61e83",
   "metadata": {},
   "outputs": [
    {
     "name": "stdout",
     "output_type": "stream",
     "text": [
      "False\n"
     ]
    }
   ],
   "source": [
    "print(8==4) # equals"
   ]
  },
  {
   "cell_type": "code",
   "execution_count": 5,
   "id": "4e6c3f74",
   "metadata": {},
   "outputs": [
    {
     "name": "stdout",
     "output_type": "stream",
     "text": [
      "True\n"
     ]
    }
   ],
   "source": [
    "print(8!=4) # not equals"
   ]
  },
  {
   "cell_type": "code",
   "execution_count": 6,
   "id": "3c665daf",
   "metadata": {},
   "outputs": [
    {
     "name": "stdout",
     "output_type": "stream",
     "text": [
      "False\n"
     ]
    }
   ],
   "source": [
    "name = \"Bella\"\n",
    "job = \"programmer\"\n",
    "print(name==job)"
   ]
  },
  {
   "cell_type": "markdown",
   "id": "3cc1a6b9",
   "metadata": {},
   "source": [
    "# If Condition\n",
    "\n",
    "A Python program can decide what to do next if a certain condition is true or false."
   ]
  },
  {
   "cell_type": "code",
   "execution_count": 9,
   "id": "9d2ea342",
   "metadata": {},
   "outputs": [
    {
     "name": "stdout",
     "output_type": "stream",
     "text": [
      "This is the right choice\n"
     ]
    }
   ],
   "source": [
    "if (20>6):\n",
    "    print(\"This is the right choice\")\n",
    "else:\n",
    "    print(\"This can never be true\")"
   ]
  },
  {
   "cell_type": "markdown",
   "id": "96745585",
   "metadata": {},
   "source": [
    "Let's try another exercise"
   ]
  },
  {
   "cell_type": "code",
   "execution_count": 11,
   "id": "15031f32",
   "metadata": {},
   "outputs": [
    {
     "name": "stdout",
     "output_type": "stream",
     "text": [
      "This line is always be executed.\n"
     ]
    }
   ],
   "source": [
    "my_favorite_colour=\"pink\"\n",
    "if(my_favorite_colour==\"red\"):\n",
    "    print(\"The colour i like is red!!!\")\n",
    "print(\"This line will always be executed.\")"
   ]
  },
  {
   "cell_type": "code",
   "execution_count": 12,
   "id": "683a93eb",
   "metadata": {},
   "outputs": [
    {
     "name": "stdout",
     "output_type": "stream",
     "text": [
      "The colour i like is pink!!\n"
     ]
    }
   ],
   "source": [
    "my_favorite_colour=\"pink\"\n",
    "if(my_favorite_colour==\"red\"):\n",
    "    print(\"The colour i like is red!!!\")\n",
    "else:\n",
    "    print(\"The colour i like is pink!!\")"
   ]
  },
  {
   "cell_type": "markdown",
   "id": "2d3439ca",
   "metadata": {},
   "source": [
    "Let's see the if condition in a list"
   ]
  },
  {
   "cell_type": "code",
   "execution_count": 16,
   "id": "8a3b29a0",
   "metadata": {},
   "outputs": [
    {
     "name": "stdout",
     "output_type": "stream",
     "text": [
      "No!! This is False!\n"
     ]
    }
   ],
   "source": [
    "fruits = [\"strawberry\", \"grapes\", \"banana\"]\n",
    "\n",
    "if(\"raspberry\" in fruits):\n",
    "    print(\"Yess! These are the fruits! \" + str(fruits))\n",
    "else:\n",
    "    print(\"No!! This is False!\")\n",
    "\n"
   ]
  },
  {
   "cell_type": "code",
   "execution_count": 17,
   "id": "7c6f233a",
   "metadata": {},
   "outputs": [
    {
     "name": "stdout",
     "output_type": "stream",
     "text": [
      "Yess! These are the fruits! ['strawberry', 'grapes', 'banana']\n"
     ]
    }
   ],
   "source": [
    "fruits = [\"strawberry\", \"grapes\", \"banana\"]\n",
    "\n",
    "if(\"grapes\" in fruits):\n",
    "    print(\"Yess! These are the fruits! \" + str(fruits))\n",
    "else:\n",
    "    print(\"No!! This is False!\")"
   ]
  },
  {
   "cell_type": "code",
   "execution_count": null,
   "id": "cc2b16c7",
   "metadata": {},
   "outputs": [],
   "source": []
  }
 ],
 "metadata": {
  "kernelspec": {
   "display_name": "Python 3 (ipykernel)",
   "language": "python",
   "name": "python3"
  },
  "language_info": {
   "codemirror_mode": {
    "name": "ipython",
    "version": 3
   },
   "file_extension": ".py",
   "mimetype": "text/x-python",
   "name": "python",
   "nbconvert_exporter": "python",
   "pygments_lexer": "ipython3",
   "version": "3.11.3"
  }
 },
 "nbformat": 4,
 "nbformat_minor": 5
}
