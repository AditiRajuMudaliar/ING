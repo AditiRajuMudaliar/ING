{
 "cells": [
  {
   "cell_type": "markdown",
   "id": "52a14353",
   "metadata": {},
   "source": [
    "# Functions\n",
    "\n",
    "Functions run only when they are called and executes the code inside in order.\n",
    "\n",
    "# Add Mentor instructions\n",
    "\n",
    "f(x)=x+1  \n",
    "f(1)=2  \n",
    "f(4)=5  \n",
    "\n",
    "# TODO Organizers: \n",
    "- explain return\n",
    "- simplify the function explanation\n",
    "- explain indentation in one sentence"
   ]
  },
  {
   "cell_type": "code",
   "execution_count": 1,
   "id": "d493d4c8",
   "metadata": {},
   "outputs": [],
   "source": [
    "def f(x):\n",
    "      return x+1"
   ]
  },
  {
   "cell_type": "code",
   "execution_count": 2,
   "id": "4734d9be",
   "metadata": {},
   "outputs": [
    {
     "name": "stdout",
     "output_type": "stream",
     "text": [
      "2\n"
     ]
    }
   ],
   "source": [
    "print(f(1))"
   ]
  },
  {
   "cell_type": "code",
   "execution_count": 11,
   "id": "3a23fcc3",
   "metadata": {},
   "outputs": [],
   "source": [
    "# we can also print\n",
    "\n",
    "def my_function():\n",
    "      print(\"Yesss! This is my function!!\")"
   ]
  },
  {
   "cell_type": "code",
   "execution_count": 12,
   "id": "7bde494d",
   "metadata": {},
   "outputs": [
    {
     "name": "stdout",
     "output_type": "stream",
     "text": [
      "Yesss! This is my function!!\n"
     ]
    }
   ],
   "source": [
    "# calling a function\n",
    "\n",
    "my_function()"
   ]
  },
  {
   "cell_type": "code",
   "execution_count": 13,
   "id": "a4ab6ada",
   "metadata": {},
   "outputs": [],
   "source": [
    "# What do you think the output would be?\n",
    "\n",
    "def hello_hello():\n",
    "  print(\"Hello World!!\" * 5)"
   ]
  },
  {
   "cell_type": "code",
   "execution_count": 14,
   "id": "aa9c1bf8",
   "metadata": {},
   "outputs": [
    {
     "name": "stdout",
     "output_type": "stream",
     "text": [
      "Hello World!!Hello World!!Hello World!!Hello World!!Hello World!!\n"
     ]
    }
   ],
   "source": [
    "hello_hello()"
   ]
  },
  {
   "cell_type": "code",
   "execution_count": 15,
   "id": "361f4029",
   "metadata": {},
   "outputs": [],
   "source": [
    "def my_story(name, color):\n",
    "    print(\"My name is \" + name +\" and I like \" + color)"
   ]
  },
  {
   "cell_type": "code",
   "execution_count": 16,
   "id": "57503990",
   "metadata": {},
   "outputs": [
    {
     "name": "stdout",
     "output_type": "stream",
     "text": [
      "My name is Bella and I like pink\n"
     ]
    }
   ],
   "source": [
    "my_story(\"Bella\", \"pink\")"
   ]
  },
  {
   "cell_type": "code",
   "execution_count": 10,
   "id": "b72d28fe",
   "metadata": {},
   "outputs": [
    {
     "name": "stdout",
     "output_type": "stream",
     "text": [
      "The highest value in euro is btc\n",
      "The lowest value in euro is doge\n",
      "The medium value in euro is eth\n"
     ]
    }
   ],
   "source": [
    "# Arguments \n",
    "# TODO: Explain arguments\n",
    "\n",
    "def cryptocurrency_symbols(bitcoin, ethereum, dogecoin):\n",
    "        print(\"The highest value in euro is \" + bitcoin)\n",
    "        print(\"The lowest value in euro is \" + dogecoin)\n",
    "        print(\"The medium value in euro is \" + ethereum)\n",
    "\n",
    "\n",
    "\n",
    "cryptocurrency_symbols(bitcoin = \"btc\", dogecoin = \"doge\", ethereum = \"eth\")"
   ]
  },
  {
   "cell_type": "code",
   "execution_count": 15,
   "id": "caa3bdee",
   "metadata": {},
   "outputs": [
    {
     "name": "stdout",
     "output_type": "stream",
     "text": [
      "The value is 5454\n",
      "The value is 32443.34\n",
      "The value is 24.512,5\n"
     ]
    }
   ],
   "source": [
    "# Default parameter value\n",
    "\n",
    "def cryptocurrency(value=\"24.512,5\"):\n",
    "  print(\"The value is \" + value)\n",
    "\n",
    "cryptocurrency('5454')\n",
    "cryptocurrency(\"32443.34\")\n",
    "cryptocurrency()"
   ]
  },
  {
   "cell_type": "code",
   "execution_count": 19,
   "id": "350f7d87",
   "metadata": {},
   "outputs": [
    {
     "name": "stdout",
     "output_type": "stream",
     "text": [
      "milk\n",
      "eggs\n",
      "bread\n"
     ]
    }
   ],
   "source": [
    "# Return values\n",
    "\n",
    "\n",
    "def show_groceries_list(items):\n",
    "    for item in items:\n",
    "        print(item)\n",
    "    \n",
    "show_groceries_list([\"milk\",\"eggs\",\"bread\"])"
   ]
  },
  {
   "cell_type": "code",
   "execution_count": 21,
   "id": "56b2312f",
   "metadata": {},
   "outputs": [
    {
     "name": "stdout",
     "output_type": "stream",
     "text": [
      "4\n",
      "4\n",
      "5\n"
     ]
    }
   ],
   "source": [
    "# Return values\n",
    "\n",
    "\n",
    "def how_many_letters(groceries_list):\n",
    "    for item in groceries_list:\n",
    "        print(len(item))\n",
    "      \n",
    "    \n",
    "how_many_letters([\"milk\",\"eggs\",\"bread\"])"
   ]
  },
  {
   "cell_type": "code",
   "execution_count": 30,
   "id": "1bedc29c",
   "metadata": {},
   "outputs": [],
   "source": [
    "# TODO: update some exampla form the wetaher app\n",
    "\n",
    "# While loop\n",
    "# Buy bitcoin until the bank account balance is not enough\n",
    "\n",
    "def buy_cryptocurrency(mybank_account_balance):\n",
    "    bitcoin=24512\n",
    "    for mybank_account_balance > bitcoin:\n",
    "        mybank_account_balance = mybank_account_balance - bitcoin\n",
    "        print(\"Purchased a bitcoin!\")\n",
    "        print(\"mybank account balance is \" + str(mybank_account_balance))\n",
    "    else:\n",
    "        print(\"No balance left :(\")\n",
    "\n",
    "    "
   ]
  },
  {
   "cell_type": "code",
   "execution_count": 26,
   "id": "ca3c64db",
   "metadata": {},
   "outputs": [
    {
     "name": "stdout",
     "output_type": "stream",
     "text": [
      "Purchased a bitcoin!\n",
      "mybank account balance is 25488\n",
      "Purchased a bitcoin!\n",
      "mybank account balance is 976\n",
      "No balance left :(\n"
     ]
    }
   ],
   "source": [
    "buy_cryptocurrency(50000)"
   ]
  }
 ],
 "metadata": {
  "kernelspec": {
   "display_name": "Python 3 (ipykernel)",
   "language": "python",
   "name": "python3"
  },
  "language_info": {
   "codemirror_mode": {
    "name": "ipython",
    "version": 3
   },
   "file_extension": ".py",
   "mimetype": "text/x-python",
   "name": "python",
   "nbconvert_exporter": "python",
   "pygments_lexer": "ipython3",
   "version": "3.11.4"
  }
 },
 "nbformat": 4,
 "nbformat_minor": 5
}
