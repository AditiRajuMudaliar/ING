{
 "cells": [
  {
   "cell_type": "markdown",
   "id": "52a14353",
   "metadata": {},
   "source": [
    "# Functions\n",
    "\n",
    "A function is a block of code that performs a specific task.\n",
    "\n",
    "Suppose, you need to create a program to create a circle and color it. You can create two functions to solve this problem:\n",
    "\n",
    "- create a circle function\n",
    "- create a color function\n",
    "\n",
    "Dividing a complex problem into smaller chunks makes our program easy to understand and reuse.\n",
    "\n",
    "## Types of function\n",
    "There are two types of function in Python programming:\n",
    "\n",
    "- **Standard library functions** - These are built-in functions in Python that are available to use.\n",
    "- **User-defined functions** - We can create our own functions based on our requirements.\n",
    "\n",
    "\n",
    "## Python Function Declaration\n",
    "The syntax to declare a function is:"
   ]
  },
  {
   "cell_type": "code",
   "execution_count": 1,
   "id": "af367388",
   "metadata": {},
   "outputs": [],
   "source": [
    "def function_name(arguments):\n",
    "    # function body \n",
    "\n",
    "    return"
   ]
  },
  {
   "cell_type": "markdown",
   "id": "08c6a92f",
   "metadata": {},
   "source": [
    "Here,\n",
    "\n",
    "- `def` - keyword used to declare a function\n",
    "- `function_name` - any name given to the function\n",
    "- `arguments` - any value passed to function\n",
    "- `return (optional)` - returns value from a function\n",
    "\n",
    "\n",
    "The return argument is optional, in the examples below we do not use it but make the function execute some code that prints a message\n",
    "\n",
    "Notice how the code after the colon is **indented**. <br>\n",
    "This means that the line before the colon is active on all the indented lines, since we want to make sure our function runs all the code belonging to it, we should indent it all. <br>\n",
    "This is the same with loops and if/else statement as we have seen before."
   ]
  },
  {
   "cell_type": "code",
   "execution_count": 2,
   "id": "3a23fcc3",
   "metadata": {},
   "outputs": [],
   "source": [
    "# we can also print\n",
    "\n",
    "def my_function():\n",
    "      print(\"Yesss! This is my function!!\")"
   ]
  },
  {
   "cell_type": "code",
   "execution_count": 3,
   "id": "7bde494d",
   "metadata": {},
   "outputs": [
    {
     "name": "stdout",
     "output_type": "stream",
     "text": [
      "Yesss! This is my function!!\n"
     ]
    }
   ],
   "source": [
    "# calling a function\n",
    "\n",
    "my_function()"
   ]
  },
  {
   "cell_type": "code",
   "execution_count": 4,
   "id": "a4ab6ada",
   "metadata": {},
   "outputs": [],
   "source": [
    "# What do you think the output would be?\n",
    "\n",
    "def hello_hello():\n",
    "  print(\"Hello World!!\" * 5)"
   ]
  },
  {
   "cell_type": "code",
   "execution_count": 5,
   "id": "aa9c1bf8",
   "metadata": {},
   "outputs": [
    {
     "name": "stdout",
     "output_type": "stream",
     "text": [
      "Hello World!!Hello World!!Hello World!!Hello World!!Hello World!!\n"
     ]
    }
   ],
   "source": [
    "hello_hello()"
   ]
  },
  {
   "cell_type": "markdown",
   "id": "8b679211",
   "metadata": {},
   "source": [
    "## Arguments\n",
    "\n",
    "You can also pass arguments to the function that specify some variables that make the function reusable with different values"
   ]
  },
  {
   "cell_type": "code",
   "execution_count": 6,
   "id": "361f4029",
   "metadata": {},
   "outputs": [],
   "source": [
    "def my_story(name, color):\n",
    "    print(\"My name is \" + name +\" and I like \" + color)"
   ]
  },
  {
   "cell_type": "code",
   "execution_count": 7,
   "id": "57503990",
   "metadata": {},
   "outputs": [
    {
     "name": "stdout",
     "output_type": "stream",
     "text": [
      "My name is Bella and I like pink\n"
     ]
    }
   ],
   "source": [
    "my_story(\"Bella\", \"pink\")"
   ]
  },
  {
   "cell_type": "code",
   "execution_count": 8,
   "id": "84c61a7f",
   "metadata": {},
   "outputs": [
    {
     "name": "stdout",
     "output_type": "stream",
     "text": [
      "My name is Tom and I like Blue\n"
     ]
    }
   ],
   "source": [
    "my_story(\"Tom\", \"Blue\")"
   ]
  },
  {
   "cell_type": "code",
   "execution_count": 9,
   "id": "b72d28fe",
   "metadata": {},
   "outputs": [
    {
     "name": "stdout",
     "output_type": "stream",
     "text": [
      "The highest value in euro is btc\n",
      "The lowest value in euro is doge\n",
      "The medium value in euro is eth\n"
     ]
    }
   ],
   "source": [
    "def cryptocurrency_symbols(bitcoin, ethereum, dogecoin):\n",
    "        print(\"The highest value in euro is \" + bitcoin)\n",
    "        print(\"The lowest value in euro is \" + dogecoin)\n",
    "        print(\"The medium value in euro is \" + ethereum)\n",
    "\n",
    "\n",
    "\n",
    "cryptocurrency_symbols(bitcoin = \"btc\", dogecoin = \"doge\", ethereum = \"eth\")"
   ]
  },
  {
   "cell_type": "code",
   "execution_count": 10,
   "id": "caa3bdee",
   "metadata": {},
   "outputs": [
    {
     "name": "stdout",
     "output_type": "stream",
     "text": [
      "The value is 5454\n",
      "The value is 32443.34\n",
      "The value is 24.512,5\n"
     ]
    }
   ],
   "source": [
    "# Default argument value\n",
    "\n",
    "# Here we set the default argument value, if we don't pass an argument value, the function takes the default one\n",
    "\n",
    "def cryptocurrency(value=\"24.512,5\"):\n",
    "  print(\"The value is \" + value)\n",
    "\n",
    "cryptocurrency('5454')\n",
    "cryptocurrency(\"32443.34\")\n",
    "cryptocurrency()"
   ]
  },
  {
   "cell_type": "code",
   "execution_count": 11,
   "id": "350f7d87",
   "metadata": {},
   "outputs": [
    {
     "name": "stdout",
     "output_type": "stream",
     "text": [
      "milk\n",
      "eggs\n",
      "bread\n"
     ]
    }
   ],
   "source": [
    "# Return values\n",
    "\n",
    "def show_groceries_list(items):\n",
    "    for item in items:\n",
    "        print(item)\n",
    "    \n",
    "show_groceries_list([\"milk\",\"eggs\",\"bread\"])"
   ]
  },
  {
   "cell_type": "code",
   "execution_count": 12,
   "id": "56b2312f",
   "metadata": {},
   "outputs": [
    {
     "name": "stdout",
     "output_type": "stream",
     "text": [
      "4\n",
      "4\n",
      "5\n"
     ]
    }
   ],
   "source": [
    "# Return values\n",
    "\n",
    "def how_many_letters(groceries_list):\n",
    "    for item in groceries_list:\n",
    "        print(len(item))\n",
    "      \n",
    "    \n",
    "how_many_letters([\"milk\",\"eggs\",\"bread\"])"
   ]
  },
  {
   "cell_type": "code",
   "execution_count": 13,
   "id": "1bedc29c",
   "metadata": {},
   "outputs": [],
   "source": [
    "# While loop\n",
    "# Buy bitcoin until the bank account balance is not enough\n",
    "\n",
    "def buy_cryptocurrency(mybank_account_balance):\n",
    "    bitcoin=24512\n",
    "    while mybank_account_balance > bitcoin:\n",
    "        mybank_account_balance = mybank_account_balance - bitcoin\n",
    "        print(\"Purchased a bitcoin!\")\n",
    "        print(\"mybank account balance is \" + str(mybank_account_balance))\n",
    "    else:\n",
    "        print(\"No balance left :(\")\n"
   ]
  },
  {
   "cell_type": "code",
   "execution_count": 14,
   "id": "ca3c64db",
   "metadata": {},
   "outputs": [
    {
     "name": "stdout",
     "output_type": "stream",
     "text": [
      "Purchased a bitcoin!\n",
      "mybank account balance is 25488\n",
      "Purchased a bitcoin!\n",
      "mybank account balance is 976\n",
      "No balance left :(\n"
     ]
    }
   ],
   "source": [
    "buy_cryptocurrency(50000)"
   ]
  },
  {
   "cell_type": "markdown",
   "id": "67af116f",
   "metadata": {},
   "source": [
    "## Return statements\n",
    "\n",
    "A Python function may or may not return a value. If we want our function to return some value to a function call, we use the return statement. For example,\n",
    "\n",
    "```\n",
    "def add_numbers():\n",
    "    ...\n",
    "    return sum\n",
    "```\n",
    "Here, we are returning the variable sum to the function call.\n",
    "\n",
    "**Note**: The return statement also denotes that the function has ended. Any code after return is not executed.\n",
    "\n",
    "In the examples below we will use the return statement to give back the result of a function"
   ]
  },
  {
   "cell_type": "code",
   "execution_count": 15,
   "id": "d493d4c8",
   "metadata": {},
   "outputs": [],
   "source": [
    "def f(x):\n",
    "      return x+1"
   ]
  },
  {
   "cell_type": "code",
   "execution_count": 16,
   "id": "4734d9be",
   "metadata": {},
   "outputs": [
    {
     "name": "stdout",
     "output_type": "stream",
     "text": [
      "2\n"
     ]
    }
   ],
   "source": [
    "print(f(1))"
   ]
  },
  {
   "cell_type": "code",
   "execution_count": 17,
   "id": "f68806d7",
   "metadata": {},
   "outputs": [
    {
     "name": "stdout",
     "output_type": "stream",
     "text": [
      "Square: 9\n"
     ]
    }
   ],
   "source": [
    "# function definition\n",
    "def find_square(num):\n",
    "    result = num * num\n",
    "    return result\n",
    "\n",
    "# function call\n",
    "square = find_square(3)\n",
    "\n",
    "print('Square:',square)"
   ]
  },
  {
   "cell_type": "code",
   "execution_count": 18,
   "id": "eccf1e5a",
   "metadata": {},
   "outputs": [
    {
     "name": "stdout",
     "output_type": "stream",
     "text": [
      "Sum:  9\n"
     ]
    }
   ],
   "source": [
    "# function that adds two numbers\n",
    "def add_numbers(num1, num2):\n",
    "    sum = num1 + num2\n",
    "    return sum\n",
    "\n",
    "# calling function with two values\n",
    "result = add_numbers(5, 4)\n",
    "\n",
    "print('Sum: ', result)"
   ]
  },
  {
   "cell_type": "markdown",
   "id": "94f59421",
   "metadata": {},
   "source": [
    "## Benefits of Using Functions\n",
    "\n",
    "1. **Code Reusable** - We can use the same function multiple times in our program which makes our code reusable. For example,"
   ]
  },
  {
   "cell_type": "code",
   "execution_count": 19,
   "id": "7cda2d08",
   "metadata": {},
   "outputs": [
    {
     "name": "stdout",
     "output_type": "stream",
     "text": [
      "Square of 1 = 1\n",
      "Square of 2 = 4\n",
      "Square of 3 = 9\n"
     ]
    }
   ],
   "source": [
    "# function definition\n",
    "def get_square(num):\n",
    "    return num * num\n",
    "\n",
    "for i in [1,2,3]:\n",
    "    # function call\n",
    "    result = get_square(i)\n",
    "    print('Square of',i, '=',result)"
   ]
  },
  {
   "cell_type": "markdown",
   "id": "ab7aa67a",
   "metadata": {},
   "source": [
    "In the above example, we have created the function named get_square() to calculate the square of a number. Here, the function is used to calculate the square of numbers from 1 to 3.\n",
    "\n",
    "Hence, the same method is used again and again.\n",
    "\n",
    "2. **Code Readability** - Functions help us break our code into chunks to make our program readable and easy to understand."
   ]
  },
  {
   "cell_type": "markdown",
   "id": "b1bed605",
   "metadata": {},
   "source": [
    "# Done!\n",
    "\n",
    "You have completed the last part of the intro to Python! <br>\n",
    "You are now ready to start playing around with some more advanced stuff or build your own application.\n",
    "\n",
    "Feel free to look at the bonus exercises for a more in-depth view on Python functionalities or a little bit of challenge\n",
    "\n",
    "\n",
    "For some more readings, take a look at the underlying resources:\n",
    "- https://www.programiz.com/python-programming/function (this learning was based on this website)\n",
    "- https://www.freecodecamp.org/news/functions-in-python-a-beginners-guide/\n",
    "- https://www.youtube.com/watch?v=u-OmVr_fT4s"
   ]
  }
 ],
 "metadata": {
  "kernelspec": {
   "display_name": "kyccddwb",
   "language": "python",
   "name": "kyccddwb"
  },
  "language_info": {
   "codemirror_mode": {
    "name": "ipython",
    "version": 3
   },
   "file_extension": ".py",
   "mimetype": "text/x-python",
   "name": "python",
   "nbconvert_exporter": "python",
   "pygments_lexer": "ipython3",
   "version": "3.8.0"
  }
 },
 "nbformat": 4,
 "nbformat_minor": 5
}
