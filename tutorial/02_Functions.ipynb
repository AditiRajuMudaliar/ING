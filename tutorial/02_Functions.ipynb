{
 "cells": [
  {
   "cell_type": "markdown",
   "id": "0057f5fd",
   "metadata": {},
   "source": [
    "# Functions\n",
    "\n",
    "Functions run only when they are called and executes the code inside in order."
   ]
  },
  {
   "cell_type": "code",
   "execution_count": 2,
   "id": "29f81ce5",
   "metadata": {},
   "outputs": [],
   "source": [
    "def my_first_function():\n",
    "  print(\"Yesss! This is my first function!!\")"
   ]
  },
  {
   "cell_type": "code",
   "execution_count": 3,
   "id": "9a5be258",
   "metadata": {},
   "outputs": [
    {
     "name": "stdout",
     "output_type": "stream",
     "text": [
      "Yesss! This is my first function!!\n"
     ]
    }
   ],
   "source": [
    "# calling a function\n",
    "\n",
    "my_first_function()"
   ]
  },
  {
   "cell_type": "code",
   "execution_count": 9,
   "id": "6481fe53",
   "metadata": {},
   "outputs": [],
   "source": [
    "def hello_hello():\n",
    "  print(\"Hello World!!\" * 5)"
   ]
  },
  {
   "cell_type": "code",
   "execution_count": 10,
   "id": "06d74991",
   "metadata": {},
   "outputs": [
    {
     "name": "stdout",
     "output_type": "stream",
     "text": [
      "Hello World!!Hello World!!Hello World!!Hello World!!Hello World!!\n"
     ]
    }
   ],
   "source": [
    "hello_hello()"
   ]
  },
  {
   "cell_type": "code",
   "execution_count": 6,
   "id": "3eed6146",
   "metadata": {},
   "outputs": [],
   "source": [
    "def my_story(name, color):\n",
    "    print(\"My name is \" + name +\" and I like \" + color)"
   ]
  },
  {
   "cell_type": "code",
   "execution_count": 7,
   "id": "6808e55d",
   "metadata": {},
   "outputs": [
    {
     "name": "stdout",
     "output_type": "stream",
     "text": [
      "My name is Selin and I like pink\n"
     ]
    }
   ],
   "source": [
    "my_story(\"Selin\", \"pink\")"
   ]
  },
  {
   "cell_type": "code",
   "execution_count": 12,
   "id": "592fc836",
   "metadata": {},
   "outputs": [
    {
     "name": "stdout",
     "output_type": "stream",
     "text": [
      "The highest value in euro is btc\n"
     ]
    }
   ],
   "source": [
    "# Arguments\n",
    "def cryptocurrency_symbols(bitcoin, ethereum, dogecoin):\n",
    "  print(\"The highest value in euro is \" + bitcoin)\n",
    "\n",
    "cryptocurrency_symbols(bitcoin = \"btc\", dogecoin = \"doge\", ethereum = \"eth\")"
   ]
  },
  {
   "cell_type": "code",
   "execution_count": 15,
   "id": "d8170631",
   "metadata": {},
   "outputs": [
    {
     "name": "stdout",
     "output_type": "stream",
     "text": [
      "The value is 5454\n",
      "The value is 32443.34\n",
      "The value is 24.512,5\n"
     ]
    }
   ],
   "source": [
    "# Default parameter value\n",
    "\n",
    "def cryptocurrency(value=\"24.512,5\"):\n",
    "  print(\"The value is \" + value)\n",
    "\n",
    "cryptocurrency('5454')\n",
    "cryptocurrency(\"32443.34\")\n",
    "cryptocurrency()"
   ]
  },
  {
   "cell_type": "code",
   "execution_count": 27,
   "id": "470db053",
   "metadata": {},
   "outputs": [
    {
     "data": {
      "text/plain": [
       "10"
      ]
     },
     "execution_count": 27,
     "metadata": {},
     "output_type": "execute_result"
    }
   ],
   "source": [
    "# Return values\n",
    "\n",
    "def sum(a):\n",
    "    return 7 + a\n",
    "\n",
    "sum(a)"
   ]
  },
  {
   "cell_type": "code",
   "execution_count": 37,
   "id": "d5f80bf1",
   "metadata": {},
   "outputs": [
    {
     "name": "stdout",
     "output_type": "stream",
     "text": [
      "rose\n",
      "leilac\n",
      "daisy\n"
     ]
    }
   ],
   "source": [
    "# Return values\n",
    "\n",
    "\n",
    "def show_the_flower(c):\n",
    "    for a in c:\n",
    "        print(a)\n",
    "    \n",
    "show_the_flower([\"rose\",\"leilac\",\"daisy\"])"
   ]
  },
  {
   "cell_type": "code",
   "execution_count": 38,
   "id": "9b5bd426",
   "metadata": {},
   "outputs": [
    {
     "name": "stdout",
     "output_type": "stream",
     "text": [
      "4\n",
      "6\n",
      "5\n"
     ]
    }
   ],
   "source": [
    "# Return values\n",
    "\n",
    "\n",
    "def how_many_letters(flowers):\n",
    "    for a in flowers:\n",
    "        print(len(a))\n",
    "      \n",
    "    \n",
    "how_many_letters([\"rose\",\"leilac\",\"daisy\"])"
   ]
  },
  {
   "cell_type": "code",
   "execution_count": 30,
   "id": "01fa331d",
   "metadata": {},
   "outputs": [],
   "source": [
    "# While loop\n",
    "# Buy bitcoin until the bank account balance is not enough\n",
    "\n",
    "def buy_cryptocurrency(mybank_account_balance):\n",
    "    bitcoin=24512\n",
    "    while mybank_account_balance > bitcoin:\n",
    "        mybank_account_balance = mybank_account_balance - bitcoin\n",
    "        print(\"Purchased a bitcoin!\")\n",
    "        print(\"mybank account balance is \" + str(mybank_account_balance))\n",
    "    else:\n",
    "        print(\"No balance left :(\")\n",
    "\n",
    "    "
   ]
  },
  {
   "cell_type": "code",
   "execution_count": 26,
   "id": "7363ecf2",
   "metadata": {},
   "outputs": [
    {
     "name": "stdout",
     "output_type": "stream",
     "text": [
      "Purchased a bitcoin!\n",
      "mybank account balance is 25488\n",
      "Purchased a bitcoin!\n",
      "mybank account balance is 976\n",
      "No balance left :(\n"
     ]
    }
   ],
   "source": [
    "buy_cryptocurrency(50000)"
   ]
  },
  {
   "cell_type": "code",
   "execution_count": null,
   "id": "0cfbbcf3",
   "metadata": {},
   "outputs": [],
   "source": []
  }
 ],
 "metadata": {
  "kernelspec": {
   "display_name": "Python 3 (ipykernel)",
   "language": "python",
   "name": "python3"
  },
  "language_info": {
   "codemirror_mode": {
    "name": "ipython",
    "version": 3
   },
   "file_extension": ".py",
   "mimetype": "text/x-python",
   "name": "python",
   "nbconvert_exporter": "python",
   "pygments_lexer": "ipython3",
   "version": "3.11.3"
  }
 },
 "nbformat": 4,
 "nbformat_minor": 5
}
