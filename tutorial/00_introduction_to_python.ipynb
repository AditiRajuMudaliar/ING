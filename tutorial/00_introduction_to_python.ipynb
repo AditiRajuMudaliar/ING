{
 "cells": [
  {
   "cell_type": "markdown",
   "id": "ceec480a",
   "metadata": {},
   "source": [
    "# Introduction to Python\n",
    "\n",
    "Let's execute our first Python command. Click on the bottom section and click on \"Run\" button on the top\n"
   ]
  },
  {
   "cell_type": "markdown",
   "id": "33b7cab3",
   "metadata": {},
   "source": [
    "# Numbers\n",
    "The interpreter acts as a simple calculator: you can type an expression at it and it will write the value."
   ]
  },
  {
   "cell_type": "code",
   "execution_count": 5,
   "id": "bb694049",
   "metadata": {},
   "outputs": [
    {
     "data": {
      "text/plain": [
       "10"
      ]
     },
     "execution_count": 5,
     "metadata": {},
     "output_type": "execute_result"
    }
   ],
   "source": [
    "2+8"
   ]
  },
  {
   "cell_type": "markdown",
   "id": "648745e4",
   "metadata": {},
   "source": [
    "Did you see 10 as a result? Congrats! You just executed your first Python program! Let's try \n",
    "- 5-5\n",
    "- 2*2\n",
    "- 12/3\n",
    "- 7 * 3.75 - 2\n"
   ]
  },
  {
   "cell_type": "code",
   "execution_count": 33,
   "id": "0297944a",
   "metadata": {},
   "outputs": [
    {
     "data": {
      "text/plain": [
       "0"
      ]
     },
     "execution_count": 33,
     "metadata": {},
     "output_type": "execute_result"
    }
   ],
   "source": [
    "5-5 "
   ]
  },
  {
   "cell_type": "markdown",
   "id": "f6c09b7b",
   "metadata": {},
   "source": [
    "# Errors\n",
    "A Python program can throw errors awhen a certain statement is not in accordance with the prescribed usage. If you try to program something is not possible, Python will give an error. For example execute the code below;\n",
    "\n",
    "0/9"
   ]
  },
  {
   "cell_type": "code",
   "execution_count": 13,
   "id": "d1057a60",
   "metadata": {},
   "outputs": [
    {
     "ename": "ZeroDivisionError",
     "evalue": "division by zero",
     "output_type": "error",
     "traceback": [
      "\u001b[0;31m---------------------------------------------------------------------------\u001b[0m",
      "\u001b[0;31mZeroDivisionError\u001b[0m                         Traceback (most recent call last)",
      "Cell \u001b[0;32mIn[13], line 1\u001b[0m\n\u001b[0;32m----> 1\u001b[0m \u001b[38;5;241;43m9\u001b[39;49m\u001b[38;5;241;43m/\u001b[39;49m\u001b[38;5;241;43m0\u001b[39;49m\n",
      "\u001b[0;31mZeroDivisionError\u001b[0m: division by zero"
     ]
    }
   ],
   "source": [
    "9/0"
   ]
  },
  {
   "cell_type": "markdown",
   "id": "dadc7d2a",
   "metadata": {},
   "source": [
    "# Strings\n",
    "\n",
    "Strings are enclosed between single quotes('...') or double quotes(\"..\")\n",
    "\n",
    "Fill and execute the command below\n",
    "\n",
    "\"My name is name<>\""
   ]
  },
  {
   "cell_type": "code",
   "execution_count": 6,
   "id": "4b4968c7",
   "metadata": {},
   "outputs": [
    {
     "data": {
      "text/plain": [
       "'My name is name<>'"
      ]
     },
     "execution_count": 6,
     "metadata": {},
     "output_type": "execute_result"
    }
   ],
   "source": [
    "\"My name is name<>\""
   ]
  },
  {
   "cell_type": "code",
   "execution_count": 7,
   "id": "517ea827",
   "metadata": {},
   "outputs": [
    {
     "data": {
      "text/plain": [
       "'My name is name<>'"
      ]
     },
     "execution_count": 7,
     "metadata": {},
     "output_type": "execute_result"
    }
   ],
   "source": [
    "'My name is name<>'"
   ]
  },
  {
   "cell_type": "markdown",
   "id": "4bab1ef8",
   "metadata": {},
   "source": [
    "# Variables\n",
    "\n",
    "Variables are the python features that helps you to save values that you can it later. It is used with the \"=\" equal sign.\n",
    "\n",
    "For examaple:\n",
    "\n",
    "name = \"Bella\""
   ]
  },
  {
   "cell_type": "code",
   "execution_count": 9,
   "id": "a386a9ef",
   "metadata": {},
   "outputs": [
    {
     "data": {
      "text/plain": [
       "'Bella'"
      ]
     },
     "execution_count": 9,
     "metadata": {},
     "output_type": "execute_result"
    }
   ],
   "source": [
    "name = \"Bella\"\n",
    "name"
   ]
  },
  {
   "cell_type": "markdown",
   "id": "4dfab9df",
   "metadata": {},
   "source": [
    "# Print\n",
    "\n",
    "The print() is a function which prints the stated message to the screen, or other standard output device. The message can be a string, or any other object."
   ]
  },
  {
   "cell_type": "code",
   "execution_count": 19,
   "id": "78c5bf46",
   "metadata": {},
   "outputs": [
    {
     "name": "stdout",
     "output_type": "stream",
     "text": [
      "Bella\n"
     ]
    }
   ],
   "source": [
    "print(name)"
   ]
  },
  {
   "cell_type": "code",
   "execution_count": 20,
   "id": "f3bc9f07",
   "metadata": {},
   "outputs": [
    {
     "name": "stdout",
     "output_type": "stream",
     "text": [
      "My name is Bella\n"
     ]
    }
   ],
   "source": [
    "text = \"My name is \" + name\n",
    "print(text)"
   ]
  },
  {
   "cell_type": "code",
   "execution_count": 22,
   "id": "0d59dc7e",
   "metadata": {},
   "outputs": [
    {
     "name": "stdout",
     "output_type": "stream",
     "text": [
      "Hi, My name is Bella\n"
     ]
    }
   ],
   "source": [
    "introduction = \"Hi, \" + text\n",
    "print(introduction)"
   ]
  },
  {
   "cell_type": "markdown",
   "id": "4e6f4daa",
   "metadata": {},
   "source": [
    "Multiplying strings with a number is also possible\n",
    "\n"
   ]
  },
  {
   "cell_type": "code",
   "execution_count": 23,
   "id": "f3f3ebf7",
   "metadata": {},
   "outputs": [
    {
     "name": "stdout",
     "output_type": "stream",
     "text": [
      "pinkpinkpinkpinkpink\n"
     ]
    }
   ],
   "source": [
    "colour = \"pink\"\n",
    "print(colour * 5)"
   ]
  },
  {
   "cell_type": "code",
   "execution_count": 34,
   "id": "b6f866e0",
   "metadata": {},
   "outputs": [
    {
     "name": "stdout",
     "output_type": "stream",
     "text": [
      "<class 'str'>\n"
     ]
    }
   ],
   "source": [
    "print(type(colour))"
   ]
  },
  {
   "cell_type": "code",
   "execution_count": 35,
   "id": "a8079a97",
   "metadata": {},
   "outputs": [
    {
     "name": "stdout",
     "output_type": "stream",
     "text": [
      "<class 'int'>\n"
     ]
    }
   ],
   "source": [
    "print(type(5))"
   ]
  },
  {
   "cell_type": "code",
   "execution_count": 36,
   "id": "d23e4dd7",
   "metadata": {},
   "outputs": [
    {
     "name": "stdout",
     "output_type": "stream",
     "text": [
      "<class 'float'>\n"
     ]
    }
   ],
   "source": [
    "print(type(5.1))"
   ]
  },
  {
   "cell_type": "markdown",
   "id": "b6f23c16",
   "metadata": {},
   "source": [
    "# List\n",
    "\n",
    "We can also store multiple items in a single variable and used with square brackets \"[\" \"]\""
   ]
  },
  {
   "cell_type": "code",
   "execution_count": 27,
   "id": "ba0cb10b",
   "metadata": {},
   "outputs": [
    {
     "name": "stdout",
     "output_type": "stream",
     "text": [
      "['lettuce', 'eggplant', 'broccoli']\n"
     ]
    }
   ],
   "source": [
    "vegetables = [\"lettuce\", \"eggplant\", \"broccoli\"]\n",
    "print(vegetables)"
   ]
  },
  {
   "cell_type": "markdown",
   "id": "06d8956c",
   "metadata": {},
   "source": [
    "List items are allowed to have duplicate values and the items are ordered. If a new item"
   ]
  },
  {
   "cell_type": "code",
   "execution_count": 29,
   "id": "6eebed13",
   "metadata": {},
   "outputs": [
    {
     "name": "stdout",
     "output_type": "stream",
     "text": [
      "['lettuce', 'eggplant', 'broccoli', 'cucumber']\n"
     ]
    }
   ],
   "source": [
    "vegetables = [\"lettuce\", \"eggplant\", \"broccoli\"]\n",
    "vegetables.append(\"cucumber\")\n",
    "print(vegetables)"
   ]
  },
  {
   "cell_type": "markdown",
   "id": "e3a6c15e",
   "metadata": {},
   "source": [
    "We can also insert an item as the first position"
   ]
  },
  {
   "cell_type": "code",
   "execution_count": 31,
   "id": "743c195a",
   "metadata": {},
   "outputs": [
    {
     "name": "stdout",
     "output_type": "stream",
     "text": [
      "['pepper', 'lettuce', 'eggplant', 'broccoli']\n"
     ]
    }
   ],
   "source": [
    "vegetables = [\"lettuce\", \"eggplant\", \"broccoli\"]\n",
    "vegetables.insert(0,\"pepper\")\n",
    "print(vegetables)"
   ]
  },
  {
   "cell_type": "markdown",
   "id": "4364ee4f",
   "metadata": {},
   "source": [
    "Or the second position"
   ]
  },
  {
   "cell_type": "code",
   "execution_count": 32,
   "id": "e84a2ba8",
   "metadata": {},
   "outputs": [
    {
     "name": "stdout",
     "output_type": "stream",
     "text": [
      "['lettuce', 'carrot', 'eggplant', 'broccoli']\n"
     ]
    }
   ],
   "source": [
    "vegetables = [\"lettuce\", \"eggplant\", \"broccoli\"]\n",
    "vegetables.insert(1,\"carrot\")\n",
    "print(vegetables)"
   ]
  },
  {
   "cell_type": "code",
   "execution_count": null,
   "id": "ed383555",
   "metadata": {},
   "outputs": [],
   "source": []
  }
 ],
 "metadata": {
  "kernelspec": {
   "display_name": "Python 3 (ipykernel)",
   "language": "python",
   "name": "python3"
  },
  "language_info": {
   "codemirror_mode": {
    "name": "ipython",
    "version": 3
   },
   "file_extension": ".py",
   "mimetype": "text/x-python",
   "name": "python",
   "nbconvert_exporter": "python",
   "pygments_lexer": "ipython3",
   "version": "3.11.3"
  }
 },
 "nbformat": 4,
 "nbformat_minor": 5
}
