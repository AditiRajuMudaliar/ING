{
 "cells": [
  {
   "cell_type": "markdown",
   "id": "ceec480a",
   "metadata": {},
   "source": [
    "# Introduction to Python\n",
    "\n",
    "Python is one of the world’s most used and most popular programming languages. It’s powerful, versatile, and easy to learn. Python is widely used in various applications, some notable ones:\n",
    "\n",
    "- Web development\n",
    "- Data Science\n",
    "- Data analysis\n",
    "- Machine learning\n",
    "- Artificial Intelligence (AI)\n",
    "- Scripting and tooling\n",
    "\n",
    "Many people say that **Python comes with batteries included.** It’s a fun way to state that it includes a comprehensive base library. In addition, because so many people use Python, hundreds of thousands of high-quality libraries and frameworks exist to get things done quickly and without hassle. You can do a lot with a little bit of Python code!\n",
    "\n",
    "Learning Python is a no-brainer, and we promise you will be up and running quickly with this Python tutorial. Regardless of your future in IT, it will be a helpful tool to have in your toolbox!\n",
    "\n",
    "For a complete list of references on Python for beginners, [check out the wiki of Python!](https://wiki.python.org/moin/BeginnersGuide/NonProgrammers)\n"
   ]
  },
  {
   "cell_type": "markdown",
   "id": "65e4f3f7",
   "metadata": {},
   "source": [
    "# Hello, world!\n",
    "\n",
    "The start of every coding language adventure starts with a \"Hello, world!\" output on your screen. This is done for multiple reasons:\n",
    "\n",
    "1. It shows that you have correctly installed all the necesary software\n",
    "2. It shows you have a correct understanding of how to run and code in the programming language\n",
    "3. It should be easy enough to run so it's a first win!\n",
    "\n",
    "Check out [this Wikipedia page](https://en.wikipedia.org/wiki/%22Hello,_World!%22_program) for more info on the trend of \"Hello, world!\" and how its unifying across almost all progamming languages!\n",
    "\n",
    "Below, you can execute your first piece of code that should execute a program that prints \"Hello, world!\" under it and marks the start of your journey as a programmer!"
   ]
  },
  {
   "cell_type": "code",
   "execution_count": 2,
   "id": "a11c6bc9",
   "metadata": {},
   "outputs": [
    {
     "name": "stdout",
     "output_type": "stream",
     "text": [
      "Hello, world!\n"
     ]
    }
   ],
   "source": [
    "print(\"Hello, world!\")"
   ]
  },
  {
   "cell_type": "markdown",
   "id": "c27bf2f8",
   "metadata": {},
   "source": [
    "Although this looks very trivial, it requires a lot of things to be in the right place and work together. If this works, your setup is correct and you are ready to move on to bigger tasks!"
   ]
  },
  {
   "cell_type": "markdown",
   "id": "94a2089f",
   "metadata": {},
   "source": [
    "# Interpreter\n",
    "\n",
    "A python interpreter is a computer program that converts each high-level program statement into machine code.\n",
    "An interpreter translates the command that you write out into code that the computer can understand.\n",
    "\n",
    "However, to better understand this definition, we must explain what high-level and low-level languages are.\n",
    "\n",
    "Computer programmers write in high-level programming languages. High-level languages are written closer to human language and allow programmers to focus on the command being written. Python is the most famous example of a high-level language.\n",
    "\n",
    "However, while high-level languages are relatively easy to understand by humans, the same cannot be said for machines. Machines only understand machine code or machine language, a language represented by strings of bits — 1s and 0s.\n",
    "\n",
    "As you can imagine, writing and reading a program as strings of 1s and 0s is extremely hard for human programmers. Imagine trying to memorize instructions as 1s and 0s!\n",
    "\n",
    "So how do we bridge the gap between what a human programmer writes and what the machine understands and thus executes? By using an interpreter.\n",
    "\n",
    "When using a Python interpreter, the programmer types in the command, the interpreter reads the command, evaluates it, prints the results, and then goes back to read the command."
   ]
  },
  {
   "cell_type": "markdown",
   "id": "33b7cab3",
   "metadata": {},
   "source": [
    "# Numbers\n",
    "\n",
    "\n",
    "The interpreter acts as a simple calculator: you can type an expression at it and it will write the value. \n",
    "\n",
    "Let's execute our first Python command. Click on the bottom section and click on \"Run\" button on the top"
   ]
  },
  {
   "cell_type": "code",
   "execution_count": null,
   "id": "bb694049",
   "metadata": {},
   "outputs": [],
   "source": [
    "2+8"
   ]
  },
  {
   "cell_type": "markdown",
   "id": "648745e4",
   "metadata": {},
   "source": [
    "Did you see 10 as a result? Congrats! You just executed your first Python program! Let's try \n",
    "- 5-5\n",
    "- 2*2\n",
    "- 12/3\n",
    "- 7 * 3.75 - 2\n"
   ]
  },
  {
   "cell_type": "code",
   "execution_count": null,
   "id": "0297944a",
   "metadata": {},
   "outputs": [],
   "source": [
    "5-5 "
   ]
  },
  {
   "cell_type": "markdown",
   "id": "f6c09b7b",
   "metadata": {},
   "source": [
    "# Errors\n",
    "A Python program can throw errors when a certain statement is not in accordance with the prescribed usage. If you try to program something is not possible, Python will give an error. For example execute the code below;"
   ]
  },
  {
   "cell_type": "code",
   "execution_count": null,
   "id": "d1057a60",
   "metadata": {},
   "outputs": [],
   "source": [
    "9/0"
   ]
  },
  {
   "cell_type": "code",
   "execution_count": null,
   "id": "952280c7",
   "metadata": {},
   "outputs": [],
   "source": [
    "8 + strawberry *3"
   ]
  },
  {
   "cell_type": "code",
   "execution_count": null,
   "id": "59ffd61e",
   "metadata": {},
   "outputs": [],
   "source": [
    "'cookie' + 7"
   ]
  },
  {
   "cell_type": "markdown",
   "id": "0601f2dd",
   "metadata": {},
   "source": [
    "You can see that Python already gives some kind of 'hint' why these commands throw an error.\n",
    "\n",
    "Not all hints are easy to read and they will require some knowledge on the types of erros there are and the naming conventions within Python.\n",
    "\n",
    "When in doubt, use Google!"
   ]
  },
  {
   "cell_type": "markdown",
   "id": "dadc7d2a",
   "metadata": {},
   "source": [
    "# Strings\n",
    "\n",
    "Strings are enclosed between single quotes('...') or double quotes(\"..\")\n",
    "\n",
    "Fill and execute the command below\n",
    "\n",
    "\"My name is name<>\""
   ]
  },
  {
   "cell_type": "code",
   "execution_count": null,
   "id": "4b4968c7",
   "metadata": {},
   "outputs": [],
   "source": [
    "\"My name is name<>\""
   ]
  },
  {
   "cell_type": "code",
   "execution_count": null,
   "id": "517ea827",
   "metadata": {},
   "outputs": [],
   "source": [
    "'My name is name<>'"
   ]
  },
  {
   "cell_type": "code",
   "execution_count": null,
   "id": "9e4bdc17",
   "metadata": {},
   "outputs": [],
   "source": [
    "\"kiwi\""
   ]
  },
  {
   "cell_type": "code",
   "execution_count": null,
   "id": "3e63ca52",
   "metadata": {},
   "outputs": [],
   "source": [
    "'banana'"
   ]
  },
  {
   "cell_type": "code",
   "execution_count": null,
   "id": "79aa3c2c",
   "metadata": {},
   "outputs": [],
   "source": [
    "len('banana')"
   ]
  },
  {
   "cell_type": "markdown",
   "id": "4bab1ef8",
   "metadata": {},
   "source": [
    "# Variables\n",
    "\n",
    "Variables are the python features that helps you to save values that you can it later. It is used with the \"=\" equal sign.\n",
    "\n",
    "For examaple:\n",
    "\n",
    "name = \"Bella\""
   ]
  },
  {
   "cell_type": "code",
   "execution_count": null,
   "id": "a386a9ef",
   "metadata": {},
   "outputs": [],
   "source": [
    "name = \"Bella\"\n",
    "name"
   ]
  },
  {
   "cell_type": "code",
   "execution_count": null,
   "id": "5bdb6f14",
   "metadata": {},
   "outputs": [],
   "source": [
    "city = \"Amsterdam\"\n",
    "city"
   ]
  },
  {
   "cell_type": "code",
   "execution_count": null,
   "id": "d592492c",
   "metadata": {},
   "outputs": [],
   "source": [
    "year = 5\n",
    "year"
   ]
  },
  {
   "cell_type": "markdown",
   "id": "4dfab9df",
   "metadata": {},
   "source": [
    "# Print\n",
    "\n",
    "The print() is a function which prints the stated message to the screen. The message can be a string, or any other object.\n",
    "\n",
    "Whereas we have executed the cells above and they have printed their results. When you run your program in a **terminal**, executing your program will only print output if specified directly.\n",
    "\n",
    "A console (or ‘terminal’, or ‘command prompt’) is a textual way to interact with your OS, just as the ‘desktop’, in conjunction with your mouse, is the graphical way to interact your system.\n",
    "\n",
    "Below we will show how to print output to a terminal!"
   ]
  },
  {
   "cell_type": "code",
   "execution_count": null,
   "id": "78c5bf46",
   "metadata": {},
   "outputs": [],
   "source": [
    "print(name)"
   ]
  },
  {
   "cell_type": "code",
   "execution_count": null,
   "id": "f3bc9f07",
   "metadata": {},
   "outputs": [],
   "source": [
    "text = \"My name is \" + name\n",
    "print(text)"
   ]
  },
  {
   "cell_type": "code",
   "execution_count": null,
   "id": "0d59dc7e",
   "metadata": {},
   "outputs": [],
   "source": [
    "introduction = \"Hi, \" + text\n",
    "print(introduction)"
   ]
  },
  {
   "cell_type": "code",
   "execution_count": null,
   "id": "ef399a08",
   "metadata": {},
   "outputs": [],
   "source": [
    "life = \"I live in \" + city + \" for \" + str(year) + \" years.\"\n",
    "print(life)"
   ]
  },
  {
   "cell_type": "markdown",
   "id": "4e6f4daa",
   "metadata": {},
   "source": [
    "Multiplying strings with a number is also possible\n",
    "\n"
   ]
  },
  {
   "cell_type": "code",
   "execution_count": null,
   "id": "f3f3ebf7",
   "metadata": {},
   "outputs": [],
   "source": [
    "# Guess the output\n",
    "\n",
    "colour = \"pink\"\n",
    "print(colour * 5)"
   ]
  },
  {
   "cell_type": "code",
   "execution_count": null,
   "id": "b6f866e0",
   "metadata": {},
   "outputs": [],
   "source": [
    "# What is the type?\n",
    "\n",
    "print(type(colour))"
   ]
  },
  {
   "cell_type": "code",
   "execution_count": null,
   "id": "a8079a97",
   "metadata": {},
   "outputs": [],
   "source": [
    "# What is the type?\n",
    "\n",
    "print(type(5))"
   ]
  },
  {
   "cell_type": "code",
   "execution_count": null,
   "id": "e570ce89",
   "metadata": {},
   "outputs": [],
   "source": [
    "# Do you think SOMETHING_PYTHON overwrites the value?\n",
    "something_python='red'\n",
    "SOMETHING_PYTHON='BLUE'\n",
    "print(something_python)\n",
    "print(SOMETHING_PYTHON)"
   ]
  },
  {
   "cell_type": "markdown",
   "id": "b6f23c16",
   "metadata": {},
   "source": [
    "# List\n",
    "\n",
    "We can also store multiple items in a single variable and used with square brackets \"[\" \"]\""
   ]
  },
  {
   "cell_type": "code",
   "execution_count": null,
   "id": "ba0cb10b",
   "metadata": {},
   "outputs": [],
   "source": [
    "vegetables = [\"lettuce\", \"eggplant\", \"broccoli\"]\n",
    "print(vegetables)"
   ]
  },
  {
   "cell_type": "markdown",
   "id": "06d8956c",
   "metadata": {},
   "source": [
    "List items are allowed to have duplicate values and the items are ordered. If a new item"
   ]
  },
  {
   "cell_type": "code",
   "execution_count": null,
   "id": "6eebed13",
   "metadata": {},
   "outputs": [],
   "source": [
    "vegetables = [\"lettuce\", \"eggplant\", \"broccoli\"]\n",
    "vegetables.append(\"cucumber\")\n",
    "print(vegetables)"
   ]
  },
  {
   "cell_type": "markdown",
   "id": "e3a6c15e",
   "metadata": {},
   "source": [
    "We can also insert an item as the first position\n",
    "\n",
    "**Important to note** is that lists are \"zero-indexed\", meaning that we start counting from index number 0.\n",
    "\n",
    "If we want to get or add something to the first position, this is thus filled at list[0], whereas the second element is stored at list[1] etc."
   ]
  },
  {
   "cell_type": "code",
   "execution_count": null,
   "id": "743c195a",
   "metadata": {},
   "outputs": [],
   "source": [
    "vegetables = [\"lettuce\", \"eggplant\", \"broccoli\"]\n",
    "vegetables.insert(0,\"pepper\")\n",
    "print(vegetables)"
   ]
  },
  {
   "cell_type": "markdown",
   "id": "4364ee4f",
   "metadata": {},
   "source": [
    "Or the second position"
   ]
  },
  {
   "cell_type": "code",
   "execution_count": null,
   "id": "e84a2ba8",
   "metadata": {},
   "outputs": [],
   "source": [
    "vegetables = [\"lettuce\", \"eggplant\", \"broccoli\"]\n",
    "vegetables.insert(1,\"carrot\")\n",
    "print(vegetables)"
   ]
  },
  {
   "cell_type": "code",
   "execution_count": null,
   "id": "ed383555",
   "metadata": {},
   "outputs": [],
   "source": [
    "# there can be duplicates as well\n",
    "\n",
    "fruits = [\"apricot\", \"strawberry\", \"melon\"]\n",
    "fruits.append(\"peach\")\n",
    "fruits.append(\"peach\")\n",
    "print(fruits)"
   ]
  },
  {
   "cell_type": "code",
   "execution_count": null,
   "id": "0481b4fb",
   "metadata": {},
   "outputs": [],
   "source": [
    "# how long is my list\n",
    "print(len(fruits))"
   ]
  },
  {
   "cell_type": "code",
   "execution_count": null,
   "id": "a81e3af3",
   "metadata": {},
   "outputs": [],
   "source": [
    "# data types in the list\n",
    "\n",
    "personal = [\"Bella\", 5, True, \"Amsterdam\"]\n",
    "print(personal)"
   ]
  },
  {
   "cell_type": "code",
   "execution_count": null,
   "id": "6ee9f7ed",
   "metadata": {},
   "outputs": [],
   "source": [
    "# what is the type?\n",
    "\n",
    "print(type(personal))"
   ]
  },
  {
   "cell_type": "code",
   "execution_count": null,
   "id": "49e0e70a",
   "metadata": {},
   "outputs": [],
   "source": [
    "# access to an item in the list\n",
    "print(personal[3])"
   ]
  },
  {
   "cell_type": "code",
   "execution_count": null,
   "id": "4e3db80d",
   "metadata": {},
   "outputs": [],
   "source": [
    "# range of indexes\n",
    "\n",
    "print(personal[2:4])"
   ]
  },
  {
   "cell_type": "code",
   "execution_count": null,
   "id": "5ca25759",
   "metadata": {},
   "outputs": [],
   "source": [
    "# what is the result?\n",
    "print(personal[4])"
   ]
  },
  {
   "cell_type": "markdown",
   "id": "23164772",
   "metadata": {},
   "source": [
    "Why is this the case? Think about the \"zero-indexing\""
   ]
  },
  {
   "cell_type": "code",
   "execution_count": null,
   "id": "dcb9d8f4",
   "metadata": {},
   "outputs": [],
   "source": [
    "# Get the last item from the list\n",
    "\n",
    "print(personal[-1])"
   ]
  },
  {
   "cell_type": "code",
   "execution_count": null,
   "id": "d9dbf089",
   "metadata": {},
   "outputs": [],
   "source": [
    "# Get the second last item from the list\n",
    "\n",
    "print(personal[-2])"
   ]
  },
  {
   "cell_type": "code",
   "execution_count": null,
   "id": "f030f814",
   "metadata": {},
   "outputs": [],
   "source": [
    "# Get the first two item from the list\n",
    "\n",
    "print(personal[:2])"
   ]
  },
  {
   "cell_type": "code",
   "execution_count": null,
   "id": "58da7388",
   "metadata": {},
   "outputs": [],
   "source": [
    "# Get the last two item from the list\n",
    "\n",
    "print(personal[2:])"
   ]
  },
  {
   "cell_type": "code",
   "execution_count": null,
   "id": "ce3a72c9",
   "metadata": {},
   "outputs": [],
   "source": [
    "# Get the last 3rd item but don't get the last item\n",
    "\n",
    "print(personal[-3:-1])"
   ]
  },
  {
   "cell_type": "markdown",
   "id": "99e19269",
   "metadata": {},
   "source": [
    "Yay!! You have contributed the first module! You know the basics of Python programming now! Wohoo!"
   ]
  },
  {
   "cell_type": "markdown",
   "id": "ac875be8-cc9c-483f-99f9-2ba6521a0ba1",
   "metadata": {},
   "source": [
    "# Bonuses!"
   ]
  },
  {
   "cell_type": "code",
   "execution_count": null,
   "id": "2b9f05bd-da77-4530-96ba-6a1f0791ce25",
   "metadata": {},
   "outputs": [],
   "source": [
    "# Bonus 1:\n",
    "\n",
    "# Let's say you have a grocery list\n",
    "my_groceries = [\"bread\", \"oat milk\", \"cuecumbers\", \"cuecumbers\", \"bananas\", \"pancake mix\",\"pancake mix\"]\n",
    "\n",
    "print(my_groceries)\n",
    "# Have you noticed something weird? some of this groceries appear twice, figure out how to remove them :)\n",
    "# hint: We learned in this chapter about the append function, but in an amazing language like Python, \n",
    "# there must be some way to remove items from the list right..? As a developer, it will happen all the time\n",
    "# that you will need to figure things on your own, especially new functionalities, try googling how to remove an item from a list in\n",
    "# Python, let's see what you find :)\n",
    "\n",
    "# Solution:\n",
    "my_groceries.remove(\"cuecumbers\")\n",
    "my_groceries.remove(\"pancake mix\")\n",
    "\n",
    "print(my_groceries)\n"
   ]
  },
  {
   "cell_type": "code",
   "execution_count": null,
   "id": "63e0d7d1-64a2-42bf-9c4c-e88cefde70d8",
   "metadata": {},
   "outputs": [],
   "source": [
    "# Bonus 2! if you have spare time, and can't get enough of this Python language, feel free to try this:\n",
    "\n",
    "# I hope you're sitting down for this...... 😅\n",
    "\n",
    "# In highschool, the writer of this excercise always had a problem (among other problems which we won't get into today...) \n",
    "# with solving the parabolic function, which is:\n",
    "\n",
    "# f(x) = ax2 + bx + c. \n",
    "# I wish I knew Python back then... let's assume I could travel back in time, could you help me figuring out\n",
    "# the Python code, that I could define a, b, c, and then calculate the x1 and x2 that the parabola intersects with x axis (y=0)?\n",
    "\n",
    "# for example, for a=0.5, b=-1*(5/2), c=2, the parabola intersects X axis (when Y=0) in x=1, and x=4.\n",
    "\n",
    "# Hint: Google Quadratic formula\n",
    "# Hint number 2, to do a square root - which we will need to do:\n",
    "\n",
    "# we will need to use an imported function -> let's not get into what it means right now, and just know that in order to do \n",
    "# a square root, we will do something like this:\n",
    "\n",
    "# from math import sqrt\n",
    "# print(sqrt(4)) <---- this will print 2\n",
    "# print(sqrt(9)) <---- this will print 3\n",
    "\n",
    "# Good luck!\n",
    "\n",
    "\n",
    "# SOLUTION:\n",
    "\n",
    "# Don't need to know what this import means for now.\n",
    "from math import sqrt\n",
    "\n",
    "a = 0.5\n",
    "b = -1*(5/2)\n",
    "c = 2\n",
    "x = 1\n",
    "\n",
    "# a*x^2 + b*x + c\n",
    "print(a*x*x + b*x + c)\n",
    "\n",
    "# b^2 - 4 * a * c\n",
    "discriminant = b*b - 4*a*c\n",
    "\n",
    "# (-b + square_root(b^2 - 4 * a * c)) / (2 * a)\n",
    "x1 = (-1 * b + sqrt(discriminant)) / (2*a)\n",
    "\n",
    "# (-b - square_root(b^2 - 4 * a * c)) / (2 * a)\n",
    "x2 = (-1 * b - sqrt(discriminant)) / (2*a)\n",
    "\n",
    "print(x1)\n",
    "print(x2)"
   ]
  },
  {
   "cell_type": "code",
   "execution_count": null,
   "id": "50fe65f8",
   "metadata": {},
   "outputs": [],
   "source": []
  }
 ],
 "metadata": {
  "kernelspec": {
   "display_name": "Python 3 (ipykernel)",
   "language": "python",
   "name": "python3"
  },
  "language_info": {
   "codemirror_mode": {
    "name": "ipython",
    "version": 3
   },
   "file_extension": ".py",
   "mimetype": "text/x-python",
   "name": "python",
   "nbconvert_exporter": "python",
   "pygments_lexer": "ipython3",
   "version": "3.9.11"
  }
 },
 "nbformat": 4,
 "nbformat_minor": 5
}
