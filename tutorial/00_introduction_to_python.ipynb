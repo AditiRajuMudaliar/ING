{
 "cells": [
  {
   "cell_type": "markdown",
   "id": "ceec480a",
   "metadata": {},
   "source": [
    "# Introduction to Python\n",
    "\n",
    "Python is one of the world’s most used and most popular programming languages. It’s powerful, versatile, and easy to learn. Python is widely used in various applications, some notable ones:\n",
    "\n",
    "- Web development\n",
    "- Data Science\n",
    "- Data analysis\n",
    "- Machine learning\n",
    "- Artificial Intelligence (AI)\n",
    "- Scripting and tooling\n",
    "\n",
    "Many people say that **Python comes with batteries included.** It’s a fun way to state that it includes a comprehensive base library. In addition, because so many people use Python, hundreds of thousands of high-quality libraries and frameworks exist to get things done quickly and without hassle. You can do a lot with a little bit of Python code!\n",
    "\n",
    "Learning Python is a no-brainer, and we promise you will be up and running quickly with this Python tutorial. Regardless of your future in IT, it will be a helpful tool to have in your toolbox!\n",
    "\n",
    "For a complete list of references on Python for beginners, [check out the wiki of Python!](https://wiki.python.org/moin/BeginnersGuide/NonProgrammers)\n"
   ]
  },
  {
   "cell_type": "markdown",
   "id": "94a2089f",
   "metadata": {},
   "source": [
    "# Interpreter\n",
    "\n",
    "A python interpreter is a computer program that converts each high-level program statement into machine code.\n",
    "An interpreter translates the command that you write out into code that the computer can understand.\n",
    "\n",
    "However, to better understand this definition, we must explain what high-level and low-level languages are.\n",
    "\n",
    "Computer programmers write in high-level programming languages. High-level languages are written closer to human language and allow programmers to focus on the command being written. Python is the most famous example of a high-level language.\n",
    "\n",
    "However, while high-level languages are relatively easy to understand by humans, the same cannot be said for machines. Machines only understand machine code or machine language, a language represented by strings of bits — 1s and 0s.\n",
    "\n",
    "As you can imagine, writing and reading a program as strings of 1s and 0s is extremely hard for human programmers. Imagine trying to memorize instructions as 1s and 0s!\n",
    "\n",
    "So how do we bridge the gap between what a human programmer writes and what the machine understands and thus executes? By using an interpreter.\n",
    "\n",
    "When using a Python interpreter, the programmer types in the command, the interpreter reads the command, evaluates it, prints the results, and then goes back to read the command."
   ]
  },
  {
   "cell_type": "markdown",
   "id": "33b7cab3",
   "metadata": {},
   "source": [
    "# Numbers\n",
    "\n",
    "\n",
    "The interpreter acts as a simple calculator: you can type an expression at it and it will write the value. \n",
    "\n",
    "Let's execute our first Python command. Click on the bottom section and click on \"Run\" button on the top"
   ]
  },
  {
   "cell_type": "code",
   "execution_count": 1,
   "id": "bb694049",
   "metadata": {},
   "outputs": [
    {
     "data": {
      "text/plain": [
       "10"
      ]
     },
     "execution_count": 1,
     "metadata": {},
     "output_type": "execute_result"
    }
   ],
   "source": [
    "2+8"
   ]
  },
  {
   "cell_type": "markdown",
   "id": "648745e4",
   "metadata": {},
   "source": [
    "Did you see 10 as a result? Congrats! You just executed your first Python program! Let's try \n",
    "- 5-5\n",
    "- 2*2\n",
    "- 12/3\n",
    "- 7 * 3.75 - 2\n"
   ]
  },
  {
   "cell_type": "code",
   "execution_count": 33,
   "id": "0297944a",
   "metadata": {},
   "outputs": [
    {
     "data": {
      "text/plain": [
       "0"
      ]
     },
     "execution_count": 33,
     "metadata": {},
     "output_type": "execute_result"
    }
   ],
   "source": [
    "5-5 "
   ]
  },
  {
   "cell_type": "markdown",
   "id": "f6c09b7b",
   "metadata": {},
   "source": [
    "# Errors\n",
    "A Python program can throw errors when a certain statement is not in accordance with the prescribed usage. If you try to program something is not possible, Python will give an error. For example execute the code below;"
   ]
  },
  {
   "cell_type": "code",
   "execution_count": 1,
   "id": "d1057a60",
   "metadata": {},
   "outputs": [
    {
     "ename": "ZeroDivisionError",
     "evalue": "division by zero",
     "output_type": "error",
     "traceback": [
      "\u001b[0;31m---------------------------------------------------------------------------\u001b[0m",
      "\u001b[0;31mZeroDivisionError\u001b[0m                         Traceback (most recent call last)",
      "Cell \u001b[0;32mIn[1], line 1\u001b[0m\n\u001b[0;32m----> 1\u001b[0m \u001b[39m9\u001b[39;49m\u001b[39m/\u001b[39;49m\u001b[39m0\u001b[39;49m\n",
      "\u001b[0;31mZeroDivisionError\u001b[0m: division by zero"
     ]
    }
   ],
   "source": [
    "9/0"
   ]
  },
  {
   "cell_type": "code",
   "execution_count": 1,
   "id": "952280c7",
   "metadata": {},
   "outputs": [
    {
     "ename": "NameError",
     "evalue": "name 'strawberry' is not defined",
     "output_type": "error",
     "traceback": [
      "\u001b[0;31m---------------------------------------------------------------------------\u001b[0m",
      "\u001b[0;31mNameError\u001b[0m                                 Traceback (most recent call last)",
      "Cell \u001b[0;32mIn[1], line 1\u001b[0m\n\u001b[0;32m----> 1\u001b[0m \u001b[38;5;241m8\u001b[39m \u001b[38;5;241m+\u001b[39m \u001b[43mstrawberry\u001b[49m \u001b[38;5;241m*\u001b[39m\u001b[38;5;241m3\u001b[39m\n",
      "\u001b[0;31mNameError\u001b[0m: name 'strawberry' is not defined"
     ]
    }
   ],
   "source": [
    "8 + strawberry *3"
   ]
  },
  {
   "cell_type": "code",
   "execution_count": 2,
   "id": "59ffd61e",
   "metadata": {},
   "outputs": [
    {
     "ename": "TypeError",
     "evalue": "can only concatenate str (not \"int\") to str",
     "output_type": "error",
     "traceback": [
      "\u001b[0;31m---------------------------------------------------------------------------\u001b[0m",
      "\u001b[0;31mTypeError\u001b[0m                                 Traceback (most recent call last)",
      "Cell \u001b[0;32mIn[2], line 1\u001b[0m\n\u001b[0;32m----> 1\u001b[0m \u001b[38;5;124;43m'\u001b[39;49m\u001b[38;5;124;43mcookie\u001b[39;49m\u001b[38;5;124;43m'\u001b[39;49m\u001b[43m \u001b[49m\u001b[38;5;241;43m+\u001b[39;49m\u001b[43m \u001b[49m\u001b[38;5;241;43m7\u001b[39;49m\n",
      "\u001b[0;31mTypeError\u001b[0m: can only concatenate str (not \"int\") to str"
     ]
    }
   ],
   "source": [
    "'cookie' + 7"
   ]
  },
  {
   "cell_type": "markdown",
   "id": "0601f2dd",
   "metadata": {},
   "source": [
    "You can see that Python already gives some kind of 'hint' why these commands throw an error.\n",
    "\n",
    "Not all hints are easy to read and they will require some knowledge on the types of erros there are and the naming conventions within Python.\n",
    "\n",
    "When in doubt, use Google!"
   ]
  },
  {
   "cell_type": "markdown",
   "id": "dadc7d2a",
   "metadata": {},
   "source": [
    "# Strings\n",
    "\n",
    "Strings are enclosed between single quotes('...') or double quotes(\"..\")\n",
    "\n",
    "Fill and execute the command below\n",
    "\n",
    "\"My name is name<>\""
   ]
  },
  {
   "cell_type": "code",
   "execution_count": 6,
   "id": "4b4968c7",
   "metadata": {},
   "outputs": [
    {
     "data": {
      "text/plain": [
       "'My name is name<>'"
      ]
     },
     "execution_count": 6,
     "metadata": {},
     "output_type": "execute_result"
    }
   ],
   "source": [
    "\"My name is name<>\""
   ]
  },
  {
   "cell_type": "code",
   "execution_count": 7,
   "id": "517ea827",
   "metadata": {},
   "outputs": [
    {
     "data": {
      "text/plain": [
       "'My name is name<>'"
      ]
     },
     "execution_count": 7,
     "metadata": {},
     "output_type": "execute_result"
    }
   ],
   "source": [
    "'My name is name<>'"
   ]
  },
  {
   "cell_type": "code",
   "execution_count": 5,
   "id": "9e4bdc17",
   "metadata": {},
   "outputs": [
    {
     "data": {
      "text/plain": [
       "'kiwi'"
      ]
     },
     "execution_count": 5,
     "metadata": {},
     "output_type": "execute_result"
    }
   ],
   "source": [
    "\"kiwi\""
   ]
  },
  {
   "cell_type": "code",
   "execution_count": 4,
   "id": "3e63ca52",
   "metadata": {},
   "outputs": [
    {
     "data": {
      "text/plain": [
       "'banana'"
      ]
     },
     "execution_count": 4,
     "metadata": {},
     "output_type": "execute_result"
    }
   ],
   "source": [
    "'banana'"
   ]
  },
  {
   "cell_type": "code",
   "execution_count": 6,
   "id": "79aa3c2c",
   "metadata": {},
   "outputs": [
    {
     "data": {
      "text/plain": [
       "6"
      ]
     },
     "execution_count": 6,
     "metadata": {},
     "output_type": "execute_result"
    }
   ],
   "source": [
    "len('banana')"
   ]
  },
  {
   "cell_type": "markdown",
   "id": "4bab1ef8",
   "metadata": {},
   "source": [
    "# Variables\n",
    "\n",
    "Variables are the python features that helps you to save values that you can it later. It is used with the \"=\" equal sign.\n",
    "\n",
    "For examaple:\n",
    "\n",
    "name = \"Bella\""
   ]
  },
  {
   "cell_type": "code",
   "execution_count": 9,
   "id": "a386a9ef",
   "metadata": {},
   "outputs": [
    {
     "data": {
      "text/plain": [
       "'Bella'"
      ]
     },
     "execution_count": 9,
     "metadata": {},
     "output_type": "execute_result"
    }
   ],
   "source": [
    "name = \"Bella\"\n",
    "name"
   ]
  },
  {
   "cell_type": "code",
   "execution_count": 9,
   "id": "5bdb6f14",
   "metadata": {},
   "outputs": [
    {
     "data": {
      "text/plain": [
       "'Amsterdam'"
      ]
     },
     "execution_count": 9,
     "metadata": {},
     "output_type": "execute_result"
    }
   ],
   "source": [
    "city = \"Amsterdam\"\n",
    "city"
   ]
  },
  {
   "cell_type": "code",
   "execution_count": 10,
   "id": "d592492c",
   "metadata": {},
   "outputs": [
    {
     "data": {
      "text/plain": [
       "5"
      ]
     },
     "execution_count": 10,
     "metadata": {},
     "output_type": "execute_result"
    }
   ],
   "source": [
    "year = 5\n",
    "year"
   ]
  },
  {
   "cell_type": "markdown",
   "id": "4dfab9df",
   "metadata": {},
   "source": [
    "# Print\n",
    "\n",
    "The print() is a function which prints the stated message to the screen. The message can be a string, or any other object.\n",
    "\n",
    "Whereas we have executed the cells above and they have printed their results. When you run your program in a **terminal**, executing your program will only print output if specified directly.\n",
    "\n",
    "A console (or ‘terminal’, or ‘command prompt’) is a textual way to interact with your OS, just as the ‘desktop’, in conjunction with your mouse, is the graphical way to interact your system.\n",
    "\n",
    "Below we will show how to print output to a terminal!"
   ]
  },
  {
   "cell_type": "code",
   "execution_count": 19,
   "id": "78c5bf46",
   "metadata": {},
   "outputs": [
    {
     "name": "stdout",
     "output_type": "stream",
     "text": [
      "Bella\n"
     ]
    }
   ],
   "source": [
    "print(name)"
   ]
  },
  {
   "cell_type": "code",
   "execution_count": 20,
   "id": "f3bc9f07",
   "metadata": {},
   "outputs": [
    {
     "name": "stdout",
     "output_type": "stream",
     "text": [
      "My name is Bella\n"
     ]
    }
   ],
   "source": [
    "text = \"My name is \" + name\n",
    "print(text)"
   ]
  },
  {
   "cell_type": "code",
   "execution_count": 22,
   "id": "0d59dc7e",
   "metadata": {},
   "outputs": [
    {
     "name": "stdout",
     "output_type": "stream",
     "text": [
      "Hi, My name is Bella\n"
     ]
    }
   ],
   "source": [
    "introduction = \"Hi, \" + text\n",
    "print(introduction)"
   ]
  },
  {
   "cell_type": "code",
   "execution_count": 13,
   "id": "ef399a08",
   "metadata": {},
   "outputs": [
    {
     "name": "stdout",
     "output_type": "stream",
     "text": [
      "I live in Amsterdam for 5 years.\n"
     ]
    }
   ],
   "source": [
    "life = \"I live in \" + city + \" for \" + str(year) + \" years.\"\n",
    "print(life)"
   ]
  },
  {
   "cell_type": "markdown",
   "id": "4e6f4daa",
   "metadata": {},
   "source": [
    "Multiplying strings with a number is also possible\n",
    "\n"
   ]
  },
  {
   "cell_type": "code",
   "execution_count": 23,
   "id": "f3f3ebf7",
   "metadata": {},
   "outputs": [
    {
     "name": "stdout",
     "output_type": "stream",
     "text": [
      "pinkpinkpinkpinkpink\n"
     ]
    }
   ],
   "source": [
    "# Guess the output\n",
    "\n",
    "colour = \"pink\"\n",
    "print(colour * 5)"
   ]
  },
  {
   "cell_type": "code",
   "execution_count": 34,
   "id": "b6f866e0",
   "metadata": {},
   "outputs": [
    {
     "name": "stdout",
     "output_type": "stream",
     "text": [
      "<class 'str'>\n"
     ]
    }
   ],
   "source": [
    "# What is the type?\n",
    "\n",
    "print(type(colour))"
   ]
  },
  {
   "cell_type": "code",
   "execution_count": 35,
   "id": "a8079a97",
   "metadata": {},
   "outputs": [
    {
     "name": "stdout",
     "output_type": "stream",
     "text": [
      "<class 'int'>\n"
     ]
    }
   ],
   "source": [
    "# What is the type?\n",
    "\n",
    "print(type(5))"
   ]
  },
  {
   "cell_type": "code",
   "execution_count": 2,
   "id": "e570ce89",
   "metadata": {},
   "outputs": [
    {
     "name": "stdout",
     "output_type": "stream",
     "text": [
      "red\n",
      "BLUE\n"
     ]
    }
   ],
   "source": [
    "# Do you think SOMETHING_PYTHON overwrites the value?\n",
    "something_python='red'\n",
    "SOMETHING_PYTHON='BLUE'\n",
    "print(something_python)\n",
    "print(SOMETHING_PYTHON)"
   ]
  },
  {
   "cell_type": "markdown",
   "id": "b6f23c16",
   "metadata": {},
   "source": [
    "# List\n",
    "\n",
    "We can also store multiple items in a single variable and used with square brackets \"[\" \"]\""
   ]
  },
  {
   "cell_type": "code",
   "execution_count": 27,
   "id": "ba0cb10b",
   "metadata": {},
   "outputs": [
    {
     "name": "stdout",
     "output_type": "stream",
     "text": [
      "['lettuce', 'eggplant', 'broccoli']\n"
     ]
    }
   ],
   "source": [
    "vegetables = [\"lettuce\", \"eggplant\", \"broccoli\"]\n",
    "print(vegetables)"
   ]
  },
  {
   "cell_type": "markdown",
   "id": "06d8956c",
   "metadata": {},
   "source": [
    "List items are allowed to have duplicate values and the items are ordered. If a new item"
   ]
  },
  {
   "cell_type": "code",
   "execution_count": 29,
   "id": "6eebed13",
   "metadata": {},
   "outputs": [
    {
     "name": "stdout",
     "output_type": "stream",
     "text": [
      "['lettuce', 'eggplant', 'broccoli', 'cucumber']\n"
     ]
    }
   ],
   "source": [
    "vegetables = [\"lettuce\", \"eggplant\", \"broccoli\"]\n",
    "vegetables.append(\"cucumber\")\n",
    "print(vegetables)"
   ]
  },
  {
   "cell_type": "markdown",
   "id": "e3a6c15e",
   "metadata": {},
   "source": [
    "We can also insert an item as the first position\n",
    "\n",
    "**Important to note** is that lists are \"zero-indexed\", meaning that we start counting from index number 0.\n",
    "\n",
    "If we want to get or add something to the first position, this is thus filled at list[0], whereas the second element is stored at list[1] etc."
   ]
  },
  {
   "cell_type": "code",
   "execution_count": 31,
   "id": "743c195a",
   "metadata": {},
   "outputs": [
    {
     "name": "stdout",
     "output_type": "stream",
     "text": [
      "['pepper', 'lettuce', 'eggplant', 'broccoli']\n"
     ]
    }
   ],
   "source": [
    "vegetables = [\"lettuce\", \"eggplant\", \"broccoli\"]\n",
    "vegetables.insert(0,\"pepper\")\n",
    "print(vegetables)"
   ]
  },
  {
   "cell_type": "markdown",
   "id": "4364ee4f",
   "metadata": {},
   "source": [
    "Or the second position"
   ]
  },
  {
   "cell_type": "code",
   "execution_count": 32,
   "id": "e84a2ba8",
   "metadata": {},
   "outputs": [
    {
     "name": "stdout",
     "output_type": "stream",
     "text": [
      "['lettuce', 'carrot', 'eggplant', 'broccoli']\n"
     ]
    }
   ],
   "source": [
    "vegetables = [\"lettuce\", \"eggplant\", \"broccoli\"]\n",
    "vegetables.insert(1,\"carrot\")\n",
    "print(vegetables)"
   ]
  },
  {
   "cell_type": "code",
   "execution_count": 33,
   "id": "ed383555",
   "metadata": {},
   "outputs": [
    {
     "name": "stdout",
     "output_type": "stream",
     "text": [
      "['apricot', 'strawberry', 'melon', 'peach', 'peach']\n"
     ]
    }
   ],
   "source": [
    "# there can be duplicates as well\n",
    "\n",
    "fruits = [\"apricot\", \"strawberry\", \"melon\"]\n",
    "fruits.append(\"peach\")\n",
    "fruits.append(\"peach\")\n",
    "print(fruits)"
   ]
  },
  {
   "cell_type": "code",
   "execution_count": 16,
   "id": "0481b4fb",
   "metadata": {},
   "outputs": [
    {
     "name": "stdout",
     "output_type": "stream",
     "text": [
      "5\n"
     ]
    }
   ],
   "source": [
    "# how long is my list\n",
    "print(len(fruits))"
   ]
  },
  {
   "cell_type": "code",
   "execution_count": 3,
   "id": "a81e3af3",
   "metadata": {},
   "outputs": [
    {
     "name": "stdout",
     "output_type": "stream",
     "text": [
      "['Bella', 5, True, 'Amsterdam']\n"
     ]
    }
   ],
   "source": [
    "# data types in the list\n",
    "\n",
    "personal = [\"Bella\", 5, True, \"Amsterdam\"]\n",
    "print(personal)"
   ]
  },
  {
   "cell_type": "code",
   "execution_count": 4,
   "id": "6ee9f7ed",
   "metadata": {},
   "outputs": [
    {
     "name": "stdout",
     "output_type": "stream",
     "text": [
      "<class 'list'>\n"
     ]
    }
   ],
   "source": [
    "# what is the type?\n",
    "\n",
    "print(type(personal))"
   ]
  },
  {
   "cell_type": "code",
   "execution_count": 5,
   "id": "49e0e70a",
   "metadata": {},
   "outputs": [
    {
     "name": "stdout",
     "output_type": "stream",
     "text": [
      "Amsterdam\n"
     ]
    }
   ],
   "source": [
    "# access to an item in the list\n",
    "print(personal[3])"
   ]
  },
  {
   "cell_type": "code",
   "execution_count": 6,
   "id": "4e3db80d",
   "metadata": {},
   "outputs": [
    {
     "name": "stdout",
     "output_type": "stream",
     "text": [
      "[True, 'Amsterdam']\n"
     ]
    }
   ],
   "source": [
    "# range of indexes\n",
    "\n",
    "print(personal[2:4])"
   ]
  },
  {
   "cell_type": "code",
   "execution_count": 7,
   "id": "5ca25759",
   "metadata": {},
   "outputs": [
    {
     "ename": "IndexError",
     "evalue": "list index out of range",
     "output_type": "error",
     "traceback": [
      "\u001b[0;31m---------------------------------------------------------------------------\u001b[0m",
      "\u001b[0;31mIndexError\u001b[0m                                Traceback (most recent call last)",
      "Cell \u001b[0;32mIn[7], line 2\u001b[0m\n\u001b[1;32m      1\u001b[0m \u001b[39m# what is the result?\u001b[39;00m\n\u001b[0;32m----> 2\u001b[0m \u001b[39mprint\u001b[39m(personal[\u001b[39m4\u001b[39;49m])\n",
      "\u001b[0;31mIndexError\u001b[0m: list index out of range"
     ]
    }
   ],
   "source": [
    "# what is the result?\n",
    "print(personal[4])"
   ]
  },
  {
   "cell_type": "markdown",
   "id": "23164772",
   "metadata": {},
   "source": [
    "Why is this the case? Think about the \"zero-indexing\""
   ]
  },
  {
   "cell_type": "code",
   "execution_count": 8,
   "id": "dcb9d8f4",
   "metadata": {},
   "outputs": [
    {
     "name": "stdout",
     "output_type": "stream",
     "text": [
      "Amsterdam\n"
     ]
    }
   ],
   "source": [
    "# Get the last item from the list\n",
    "\n",
    "print(personal[-1])"
   ]
  },
  {
   "cell_type": "code",
   "execution_count": 9,
   "id": "d9dbf089",
   "metadata": {},
   "outputs": [
    {
     "name": "stdout",
     "output_type": "stream",
     "text": [
      "True\n"
     ]
    }
   ],
   "source": [
    "# Get the second last item from the list\n",
    "\n",
    "print(personal[-2])"
   ]
  },
  {
   "cell_type": "code",
   "execution_count": 10,
   "id": "f030f814",
   "metadata": {},
   "outputs": [
    {
     "name": "stdout",
     "output_type": "stream",
     "text": [
      "['Bella', 5]\n"
     ]
    }
   ],
   "source": [
    "# Get the first two item from the list\n",
    "\n",
    "print(personal[:2])"
   ]
  },
  {
   "cell_type": "code",
   "execution_count": 11,
   "id": "58da7388",
   "metadata": {},
   "outputs": [
    {
     "name": "stdout",
     "output_type": "stream",
     "text": [
      "[True, 'Amsterdam']\n"
     ]
    }
   ],
   "source": [
    "# Get the last two item from the list\n",
    "\n",
    "print(personal[2:])"
   ]
  },
  {
   "cell_type": "code",
   "execution_count": 12,
   "id": "ce3a72c9",
   "metadata": {},
   "outputs": [
    {
     "name": "stdout",
     "output_type": "stream",
     "text": [
      "[5, True]\n"
     ]
    }
   ],
   "source": [
    "# Get the last 3rd item but don't get the last item\n",
    "\n",
    "print(personal[-3:-1])"
   ]
  },
  {
   "cell_type": "markdown",
   "id": "99e19269",
   "metadata": {},
   "source": [
    "Yay!! You have contributed the first module! You know the basics of Python programming now! Wohoo!"
   ]
  }
 ],
 "metadata": {
  "kernelspec": {
   "display_name": "Python 3 (ipykernel)",
   "language": "python",
   "name": "python3"
  },
  "language_info": {
   "codemirror_mode": {
    "name": "ipython",
    "version": 3
   },
   "file_extension": ".py",
   "mimetype": "text/x-python",
   "name": "python",
   "nbconvert_exporter": "python",
   "pygments_lexer": "ipython3",
   "version": "3.9.11"
  }
 },
 "nbformat": 4,
 "nbformat_minor": 5
}
