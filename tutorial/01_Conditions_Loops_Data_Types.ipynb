{
 "cells": [
  {
   "cell_type": "markdown",
   "id": "29af93e6",
   "metadata": {},
   "source": [
    "# Booleans\n",
    "\n",
    "In programming, you have to know if an expression is True or False. True or False values are represented with Boolean. True is 1, and False is 0.\n",
    "\n",
    "Let's check the exercise below;"
   ]
  },
  {
   "cell_type": "code",
   "execution_count": 1,
   "id": "15caacad",
   "metadata": {},
   "outputs": [
    {
     "name": "stdout",
     "output_type": "stream",
     "text": [
      "True\n"
     ]
    }
   ],
   "source": [
    "print(20>6)"
   ]
  },
  {
   "cell_type": "code",
   "execution_count": 2,
   "id": "2dc629de",
   "metadata": {},
   "outputs": [
    {
     "name": "stdout",
     "output_type": "stream",
     "text": [
      "True\n",
      "True\n",
      "True\n"
     ]
    }
   ],
   "source": [
    "# True or false?\n",
    "print(bool(\"Beautiful\"))\n",
    "print(bool(61))\n",
    "print(bool([\"melon\", \"kofte\", \"brownie\"]))"
   ]
  },
  {
   "cell_type": "code",
   "execution_count": 3,
   "id": "8453ff84",
   "metadata": {},
   "outputs": [
    {
     "name": "stdout",
     "output_type": "stream",
     "text": [
      "False\n",
      "False\n",
      "False\n",
      "False\n",
      "False\n"
     ]
    }
   ],
   "source": [
    "# True or false?\n",
    "\n",
    "print(bool([]))\n",
    "print(bool(\"\"))\n",
    "print(bool(False))\n",
    "print(bool(None))\n",
    "print(bool(0))"
   ]
  },
  {
   "cell_type": "code",
   "execution_count": 2,
   "id": "dcd64ebd",
   "metadata": {},
   "outputs": [
    {
     "name": "stdout",
     "output_type": "stream",
     "text": [
      "False\n"
     ]
    }
   ],
   "source": [
    "# Is is True or False? \n",
    "\n",
    "print(5>8)"
   ]
  },
  {
   "cell_type": "code",
   "execution_count": 3,
   "id": "c5897674",
   "metadata": {},
   "outputs": [
    {
     "name": "stdout",
     "output_type": "stream",
     "text": [
      "True\n"
     ]
    }
   ],
   "source": [
    "# Is is True or False? \n",
    "\n",
    "print(\"b\"==\"b\")"
   ]
  },
  {
   "cell_type": "code",
   "execution_count": 4,
   "id": "35a61e83",
   "metadata": {},
   "outputs": [
    {
     "name": "stdout",
     "output_type": "stream",
     "text": [
      "False\n"
     ]
    }
   ],
   "source": [
    "# Is is True or False? \n",
    "\n",
    "print(8==4) # equals"
   ]
  },
  {
   "cell_type": "code",
   "execution_count": 5,
   "id": "4e6c3f74",
   "metadata": {},
   "outputs": [
    {
     "name": "stdout",
     "output_type": "stream",
     "text": [
      "True\n"
     ]
    }
   ],
   "source": [
    "# Is is True or False? \n",
    "\n",
    "print(8!=4) # not equals"
   ]
  },
  {
   "cell_type": "code",
   "execution_count": 6,
   "id": "3c665daf",
   "metadata": {},
   "outputs": [
    {
     "name": "stdout",
     "output_type": "stream",
     "text": [
      "False\n"
     ]
    }
   ],
   "source": [
    "# Guess the output\n",
    "name = \"Bella\"\n",
    "job = \"programmer\"\n",
    "print(name==job)"
   ]
  },
  {
   "cell_type": "markdown",
   "id": "3cc1a6b9",
   "metadata": {},
   "source": [
    "# If Condition\n",
    "\n",
    "A Python program can decide what to do next if a certain condition is true or false."
   ]
  },
  {
   "cell_type": "code",
   "execution_count": 9,
   "id": "9d2ea342",
   "metadata": {},
   "outputs": [
    {
     "name": "stdout",
     "output_type": "stream",
     "text": [
      "This is the right choice\n"
     ]
    }
   ],
   "source": [
    "if (20>6):\n",
    "    print(\"This is the right choice\")\n",
    "else:\n",
    "    print(\"This can never be true\")"
   ]
  },
  {
   "cell_type": "markdown",
   "id": "96745585",
   "metadata": {},
   "source": [
    "Let's try another exercise"
   ]
  },
  {
   "cell_type": "code",
   "execution_count": 11,
   "id": "15031f32",
   "metadata": {},
   "outputs": [
    {
     "name": "stdout",
     "output_type": "stream",
     "text": [
      "This line is always be executed.\n"
     ]
    }
   ],
   "source": [
    "# Pay attention to the execution order\n",
    "\n",
    "my_favorite_colour=\"pink\"\n",
    "if(my_favorite_colour==\"red\"):\n",
    "    print(\"The colour i like is red!!!\")\n",
    "print(\"This line will always be executed.\")"
   ]
  },
  {
   "cell_type": "code",
   "execution_count": 12,
   "id": "683a93eb",
   "metadata": {},
   "outputs": [
    {
     "name": "stdout",
     "output_type": "stream",
     "text": [
      "The colour i like is pink!!\n"
     ]
    }
   ],
   "source": [
    "my_favorite_colour=\"pink\"\n",
    "if(my_favorite_colour==\"red\"):\n",
    "    print(\"The colour i like is red!!!\")\n",
    "else:\n",
    "    print(\"The colour i like is pink!!\")"
   ]
  },
  {
   "cell_type": "markdown",
   "id": "2d3439ca",
   "metadata": {},
   "source": [
    "Let's see the if condition in a list"
   ]
  },
  {
   "cell_type": "code",
   "execution_count": 16,
   "id": "8a3b29a0",
   "metadata": {},
   "outputs": [
    {
     "name": "stdout",
     "output_type": "stream",
     "text": [
      "No!! This is False!\n"
     ]
    }
   ],
   "source": [
    "fruits = [\"strawberry\", \"grapes\", \"banana\"]\n",
    "\n",
    "if(\"raspberry\" in fruits):\n",
    "    print(\"Yess! These are the fruits! \" + str(fruits))\n",
    "else:\n",
    "    print(\"No!! This is False!\")\n",
    "\n"
   ]
  },
  {
   "cell_type": "code",
   "execution_count": 17,
   "id": "7c6f233a",
   "metadata": {},
   "outputs": [
    {
     "name": "stdout",
     "output_type": "stream",
     "text": [
      "Yess! These are the fruits! ['strawberry', 'grapes', 'banana']\n"
     ]
    }
   ],
   "source": [
    "fruits = [\"strawberry\", \"grapes\", \"banana\"]\n",
    "\n",
    "if(\"grapes\" in fruits):\n",
    "    print(\"Yess! These are the fruits! \" + str(fruits))\n",
    "else:\n",
    "    print(\"No!! This is False!\")"
   ]
  },
  {
   "cell_type": "markdown",
   "id": "80c68952",
   "metadata": {},
   "source": [
    "# TODO: move the exercise below and make it easy\n",
    "# Exercise Calculator\n",
    "\n",
    "The Fibonacci sequence is a sequence in which each number is the sum of the two preceding ones.\n"
   ]
  },
  {
   "cell_type": "code",
   "execution_count": 5,
   "id": "cbe7b94a",
   "metadata": {},
   "outputs": [
    {
     "name": "stdout",
     "output_type": "stream",
     "text": [
      "0\n",
      "1\n",
      "1\n",
      "2\n",
      "3\n",
      "5\n",
      "8\n",
      "13\n"
     ]
    }
   ],
   "source": [
    "# Print fibonacci numbers until 21\n",
    "x = 0\n",
    "y = 1\n",
    "while x < 21:\n",
    "    print(x)\n",
    "    x, y = y, x+y"
   ]
  },
  {
   "cell_type": "markdown",
   "id": "0994fab3",
   "metadata": {},
   "source": [
    " `while` condition is executed until the expression is correct"
   ]
  },
  {
   "cell_type": "markdown",
   "id": "3131e5d6",
   "metadata": {},
   "source": [
    "# For Loop\n",
    "\n",
    "For statement iterates over the sequence.\n",
    "# Go over with mentors\n",
    "TODO: Explain the foor loop why do we need it through a question. How would you print the cars in a different line?"
   ]
  },
  {
   "cell_type": "code",
   "execution_count": 6,
   "id": "59440b17",
   "metadata": {},
   "outputs": [
    {
     "name": "stdout",
     "output_type": "stream",
     "text": [
      "bmw\n",
      "cadillac\n",
      "jeep\n"
     ]
    }
   ],
   "source": [
    "cars = [\"bmw\", \"cadillac\", \"jeep\"]\n",
    "for a in cars:\n",
    "  print(a)"
   ]
  },
  {
   "cell_type": "code",
   "execution_count": 7,
   "id": "ef0eebf6",
   "metadata": {},
   "outputs": [
    {
     "name": "stdout",
     "output_type": "stream",
     "text": [
      "c\n",
      "a\n",
      "d\n",
      "i\n",
      "l\n",
      "l\n",
      "a\n",
      "c\n"
     ]
    }
   ],
   "source": [
    "# You can also loop through a string\n",
    "for x in \"cadillac\":\n",
    "    print(x)"
   ]
  },
  {
   "cell_type": "code",
   "execution_count": 8,
   "id": "f4528658",
   "metadata": {},
   "outputs": [
    {
     "name": "stdout",
     "output_type": "stream",
     "text": [
      "0\n",
      "1\n",
      "2\n",
      "3\n",
      "4\n",
      "5\n",
      "This is the else :) \n"
     ]
    }
   ],
   "source": [
    "for this_item in range(6):\n",
    "  print(this_item)\n",
    "else:\n",
    "  print(\"This is the else :) \")"
   ]
  },
  {
   "cell_type": "code",
   "execution_count": 10,
   "id": "5e638a27",
   "metadata": {},
   "outputs": [
    {
     "name": "stdout",
     "output_type": "stream",
     "text": [
      "6\n",
      "7\n",
      "8\n",
      "This is the else :) \n"
     ]
    }
   ],
   "source": [
    "for this_item in range(6,9):\n",
    "  print(this_item)\n",
    "else:\n",
    "  print(\"This is the else :) \")"
   ]
  },
  {
   "cell_type": "code",
   "execution_count": 12,
   "id": "7299ae99",
   "metadata": {},
   "outputs": [
    {
     "name": "stdout",
     "output_type": "stream",
     "text": [
      "jeep\n"
     ]
    }
   ],
   "source": [
    "# For loops together with if conditions \n",
    "\n",
    "cars = [\"bmw\", \"cadillac\", \"jeep\"]\n",
    "\n",
    "for car in cars:\n",
    "    if car == 'jeep': \n",
    "        print(car)\n",
    "    else:\n",
    "        print(\"Sorry honey!\")\n"
   ]
  },
  {
   "cell_type": "code",
   "execution_count": 4,
   "id": "39b9882b",
   "metadata": {},
   "outputs": [
    {
     "name": "stdout",
     "output_type": "stream",
     "text": [
      "Sorry honey!\n",
      "Sorry honey!\n",
      "jeep\n"
     ]
    }
   ],
   "source": [
    "# For loops together with if conditions \n",
    "# TODO: maybe use another example\n",
    "\n",
    "cars = [\"bmw\", \"cadillac\", \"jeep\"]\n",
    "\n",
    "for car in cars:\n",
    "    if car == 'jeep': \n",
    "        print(car)\n",
    "        break\n",
    "    else:\n",
    "        print(\"Sorry honey!\")\n"
   ]
  },
  {
   "cell_type": "code",
   "execution_count": 16,
   "id": "c8b04be3",
   "metadata": {},
   "outputs": [
    {
     "name": "stdout",
     "output_type": "stream",
     "text": [
      "Not this one!\n",
      "Not this one!\n",
      "Not this one!\n",
      "Sorry honey!\n",
      "Not this one!\n",
      "Not this one!\n",
      "Not this one!\n",
      "Sorry honey!\n",
      "My favorite car is jeep, and I love daisy\n"
     ]
    }
   ],
   "source": [
    "# For loops together another foor loop \n",
    "# TODO: make more intuitive examples here. Ex. cars & tires\n",
    "\n",
    "cars = [\"bmw\", \"cadillac\", \"jeep\"]\n",
    "flowers = [\"rose\", \"tulip\", \"daisy\"]\n",
    "\n",
    "\n",
    "for car in cars:\n",
    "    for flower in flowers:\n",
    "        if car == 'jeep': \n",
    "            if flower == 'daisy':\n",
    "                print(\"My favorite car is \"+ car + \", and I love \"+ flower)\n",
    "                break\n",
    "        else:\n",
    "            print(\"Not this one!\")\n",
    "    else:\n",
    "        print(\"Sorry honey!\")\n"
   ]
  },
  {
   "cell_type": "code",
   "execution_count": 11,
   "id": "524c11d4",
   "metadata": {},
   "outputs": [
    {
     "name": "stdout",
     "output_type": "stream",
     "text": [
      "Yes!\n",
      "Too bad!\n",
      "Too bad!\n"
     ]
    }
   ],
   "source": [
    "# Guess the output. Read carefully!\n",
    "\n",
    "my_dog_names = ['cookie', 'peanut', 'python']\n",
    "for dog in my_dog_names:\n",
    "    if dog == 'Peanut':\n",
    "        print('Yes!')\n",
    "    elif dog == \"cookie\":\n",
    "        print('Yes!')\n",
    "    else:\n",
    "        print('Too bad!')"
   ]
  },
  {
   "cell_type": "markdown",
   "id": "c17bf01a",
   "metadata": {},
   "source": [
    "# Dictionaries\n",
    "\n",
    "Stores data in key:value pairs\n",
    "\n",
    "TODO: explain dictionary here (set of variables)\n",
    "# Go over with mentors"
   ]
  },
  {
   "cell_type": "code",
   "execution_count": 23,
   "id": "8c3fd1e0",
   "metadata": {},
   "outputs": [
    {
     "name": "stdout",
     "output_type": "stream",
     "text": [
      "Amsterdam\n"
     ]
    }
   ],
   "source": [
    "# Find the city value in the dictionary\n",
    "\n",
    "myself = {\n",
    "  \"name\": \"Bella\",\n",
    "  \"city\": \"Amsterdam\",\n",
    "  \"year\": 2023\n",
    "}\n",
    "print(myself[\"city\"])"
   ]
  },
  {
   "cell_type": "code",
   "execution_count": 14,
   "id": "277640cb",
   "metadata": {},
   "outputs": [
    {
     "name": "stdout",
     "output_type": "stream",
     "text": [
      "['kofte', 'shwarma', 'steak', 'fries']\n"
     ]
    }
   ],
   "source": [
    "myself = {\n",
    "  \"name\": \"Bella\",\n",
    "  \"city\": \"Amsterdam\",\n",
    "  \"year\": 2023,\n",
    "  \"favorite_food\": [\"kofte\", \"shwarma\", \"steak\", \"fries\"]\n",
    "}\n",
    "print(myself[\"favorite_food\"])"
   ]
  },
  {
   "cell_type": "code",
   "execution_count": 15,
   "id": "76632591",
   "metadata": {},
   "outputs": [
    {
     "name": "stdout",
     "output_type": "stream",
     "text": [
      "4\n"
     ]
    }
   ],
   "source": [
    "# Length of the dictionary\n",
    "\n",
    "print(len(myself))\n"
   ]
  },
  {
   "cell_type": "code",
   "execution_count": 17,
   "id": "a7378d62",
   "metadata": {},
   "outputs": [
    {
     "name": "stdout",
     "output_type": "stream",
     "text": [
      "Amsterdam\n"
     ]
    }
   ],
   "source": [
    "# show the city\n",
    "\n",
    "print(myself['city'])"
   ]
  },
  {
   "cell_type": "code",
   "execution_count": null,
   "id": "4f366b8c",
   "metadata": {},
   "outputs": [],
   "source": [
    "# TODO: add an example from the weather app with the same vairables\n",
    "# TODO: create a dictionary with your details and print them"
   ]
  }
 ],
 "metadata": {
  "kernelspec": {
   "display_name": "Python 3 (ipykernel)",
   "language": "python",
   "name": "python3"
  },
  "language_info": {
   "codemirror_mode": {
    "name": "ipython",
    "version": 3
   },
   "file_extension": ".py",
   "mimetype": "text/x-python",
   "name": "python",
   "nbconvert_exporter": "python",
   "pygments_lexer": "ipython3",
   "version": "3.11.4"
  }
 },
 "nbformat": 4,
 "nbformat_minor": 5
}
