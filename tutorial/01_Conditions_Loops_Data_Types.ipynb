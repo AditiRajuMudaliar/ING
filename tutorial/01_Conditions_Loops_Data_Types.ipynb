{
 "cells": [
  {
   "cell_type": "markdown",
   "id": "29af93e6",
   "metadata": {},
   "source": [
    "# Booleans\n",
    "\n",
    "In programming, you have to know if an expression is True or False. True or False values are represented with Boolean. True is 1, and False is 0.\n",
    "\n",
    "Let's check the exercise below;"
   ]
  },
  {
   "cell_type": "code",
   "execution_count": null,
   "id": "15caacad",
   "metadata": {},
   "outputs": [],
   "source": [
    "print(20>6)"
   ]
  },
  {
   "cell_type": "code",
   "execution_count": null,
   "id": "2dc629de",
   "metadata": {},
   "outputs": [],
   "source": [
    "# True or false?\n",
    "print(bool(\"Beautiful\"))\n",
    "print(bool(61))\n",
    "print(bool([\"melon\", \"kofte\", \"brownie\"]))"
   ]
  },
  {
   "cell_type": "code",
   "execution_count": null,
   "id": "8453ff84",
   "metadata": {},
   "outputs": [],
   "source": [
    "# True or false?\n",
    "\n",
    "print(bool([]))\n",
    "print(bool(\"\"))\n",
    "print(bool(False))\n",
    "print(bool(None))\n",
    "print(bool(0))"
   ]
  },
  {
   "cell_type": "code",
   "execution_count": null,
   "id": "dcd64ebd",
   "metadata": {},
   "outputs": [],
   "source": [
    "# Is is True or False? \n",
    "\n",
    "print(5>8)"
   ]
  },
  {
   "cell_type": "code",
   "execution_count": null,
   "id": "c5897674",
   "metadata": {},
   "outputs": [],
   "source": [
    "# Is is True or False? \n",
    "\n",
    "print(\"b\"==\"b\")"
   ]
  },
  {
   "cell_type": "code",
   "execution_count": null,
   "id": "35a61e83",
   "metadata": {},
   "outputs": [],
   "source": [
    "# Is is True or False? \n",
    "\n",
    "print(8==4) # equals"
   ]
  },
  {
   "cell_type": "code",
   "execution_count": null,
   "id": "4e6c3f74",
   "metadata": {},
   "outputs": [],
   "source": [
    "# Is is True or False? \n",
    "\n",
    "print(8!=4) # not equals"
   ]
  },
  {
   "cell_type": "code",
   "execution_count": null,
   "id": "3c665daf",
   "metadata": {},
   "outputs": [],
   "source": [
    "# Guess the output\n",
    "name = \"Bella\"\n",
    "job = \"programmer\"\n",
    "print(name==job)"
   ]
  },
  {
   "cell_type": "markdown",
   "id": "3cc1a6b9",
   "metadata": {},
   "source": [
    "# If Condition\n",
    "\n",
    "A Python program can decide what to do next if a certain condition is true or false."
   ]
  },
  {
   "cell_type": "code",
   "execution_count": null,
   "id": "9d2ea342",
   "metadata": {},
   "outputs": [],
   "source": [
    "if (20>6):\n",
    "    print(\"This is the right choice\")\n",
    "else:\n",
    "    print(\"This can never be true\")"
   ]
  },
  {
   "cell_type": "markdown",
   "id": "96745585",
   "metadata": {},
   "source": [
    "Let's try another exercise"
   ]
  },
  {
   "cell_type": "code",
   "execution_count": null,
   "id": "15031f32",
   "metadata": {},
   "outputs": [],
   "source": [
    "# Pay attention to the execution order\n",
    "\n",
    "my_favorite_colour=\"pink\"\n",
    "if(my_favorite_colour==\"red\"):\n",
    "    print(\"The colour i like is red!!!\")\n",
    "print(\"This line will always be executed.\")"
   ]
  },
  {
   "cell_type": "code",
   "execution_count": null,
   "id": "683a93eb",
   "metadata": {},
   "outputs": [],
   "source": [
    "my_favorite_colour=\"pink\"\n",
    "if(my_favorite_colour==\"red\"):\n",
    "    print(\"The colour i like is red!!!\")\n",
    "else:\n",
    "    print(\"The colour i like is pink!!\")"
   ]
  },
  {
   "cell_type": "markdown",
   "id": "2d3439ca",
   "metadata": {},
   "source": [
    "Let's see the if condition in a list"
   ]
  },
  {
   "cell_type": "code",
   "execution_count": null,
   "id": "8a3b29a0",
   "metadata": {},
   "outputs": [],
   "source": [
    "fruits = [\"strawberry\", \"grapes\", \"banana\"]\n",
    "\n",
    "if(\"raspberry\" in fruits):\n",
    "    print(\"Yess! These are the fruits! \" + str(fruits))\n",
    "else:\n",
    "    print(\"No!! This is False!\")\n",
    "\n"
   ]
  },
  {
   "cell_type": "code",
   "execution_count": null,
   "id": "7c6f233a",
   "metadata": {},
   "outputs": [],
   "source": [
    "fruits = [\"strawberry\", \"grapes\", \"banana\"]\n",
    "\n",
    "if(\"grapes\" in fruits):\n",
    "    print(\"Yess! These are the fruits! \" + str(fruits))\n",
    "else:\n",
    "    print(\"No!! This is False!\")"
   ]
  },
  {
   "cell_type": "markdown",
   "id": "80c68952",
   "metadata": {},
   "source": [
    "# TODO: move the exercise below and make it easy\n",
    "# Exercise Calculator\n",
    "\n",
    "The Fibonacci sequence is a sequence in which each number is the sum of the two preceding ones.\n"
   ]
  },
  {
   "cell_type": "code",
   "execution_count": null,
   "id": "cbe7b94a",
   "metadata": {},
   "outputs": [],
   "source": [
    "# Print fibonacci numbers until 21\n",
    "x = 0\n",
    "y = 1\n",
    "while x < 21:\n",
    "    print(x)\n",
    "    x, y = y, x+y"
   ]
  },
  {
   "cell_type": "markdown",
   "id": "0994fab3",
   "metadata": {},
   "source": [
    " `while` condition is executed until the expression is correct"
   ]
  },
  {
   "cell_type": "markdown",
   "id": "3131e5d6",
   "metadata": {},
   "source": [
    "# For Loop\n",
    "\n",
    "For statement iterates over the sequence.\n",
    "# Go over with mentors\n",
    "TODO: Explain the foor loop why do we need it through a question. How would you print the cars in a different line?"
   ]
  },
  {
   "cell_type": "code",
   "execution_count": null,
   "id": "59440b17",
   "metadata": {},
   "outputs": [],
   "source": [
    "cars = [\"bmw\", \"cadillac\", \"jeep\"]\n",
    "for a in cars:\n",
    "  print(a)"
   ]
  },
  {
   "cell_type": "code",
   "execution_count": null,
   "id": "ef0eebf6",
   "metadata": {},
   "outputs": [],
   "source": [
    "# You can also loop through a string\n",
    "for x in \"cadillac\":\n",
    "    print(x)"
   ]
  },
  {
   "cell_type": "code",
   "execution_count": null,
   "id": "f4528658",
   "metadata": {},
   "outputs": [],
   "source": [
    "for this_item in range(6):\n",
    "  print(this_item)\n",
    "else:\n",
    "  print(\"This is the else :) \")"
   ]
  },
  {
   "cell_type": "code",
   "execution_count": null,
   "id": "5e638a27",
   "metadata": {},
   "outputs": [],
   "source": [
    "for this_item in range(6,9):\n",
    "  print(this_item)\n",
    "else:\n",
    "  print(\"This is the else :) \")"
   ]
  },
  {
   "cell_type": "code",
   "execution_count": null,
   "id": "7299ae99",
   "metadata": {},
   "outputs": [],
   "source": [
    "# For loops together with if conditions \n",
    "\n",
    "cars = [\"bmw\", \"cadillac\", \"jeep\"]\n",
    "\n",
    "for car in cars:\n",
    "    if car == 'jeep': \n",
    "        print(car)\n",
    "    else:\n",
    "        print(\"Sorry honey!\")\n"
   ]
  },
  {
   "cell_type": "code",
   "execution_count": null,
   "id": "39b9882b",
   "metadata": {},
   "outputs": [],
   "source": [
    "# For loops together with if conditions \n",
    "# TODO: maybe use another example\n",
    "\n",
    "cars = [\"bmw\", \"cadillac\", \"jeep\"]\n",
    "\n",
    "for car in cars:\n",
    "    if car == 'jeep': \n",
    "        print(car)\n",
    "        break\n",
    "    else:\n",
    "        print(\"Sorry honey!\")\n"
   ]
  },
  {
   "cell_type": "code",
   "execution_count": null,
   "id": "c8b04be3",
   "metadata": {},
   "outputs": [],
   "source": [
    "# For loops together another foor loop \n",
    "# TODO: make more intuitive examples here. Ex. cars & tires\n",
    "\n",
    "cars = [\"bmw\", \"cadillac\", \"jeep\"]\n",
    "flowers = [\"rose\", \"tulip\", \"daisy\"]\n",
    "\n",
    "\n",
    "for car in cars:\n",
    "    for flower in flowers:\n",
    "        if car == 'jeep': \n",
    "            if flower == 'daisy':\n",
    "                print(\"My favorite car is \"+ car + \", and I love \"+ flower)\n",
    "                break\n",
    "        else:\n",
    "            print(\"Not this one!\")\n",
    "    else:\n",
    "        print(\"Sorry honey!\")\n"
   ]
  },
  {
   "cell_type": "code",
   "execution_count": null,
   "id": "524c11d4",
   "metadata": {},
   "outputs": [],
   "source": [
    "# Guess the output. Read carefully!\n",
    "\n",
    "my_dog_names = ['cookie', 'peanut', 'python']\n",
    "for dog in my_dog_names:\n",
    "    if dog == 'Peanut':\n",
    "        print('Yes!')\n",
    "    elif dog == \"cookie\":\n",
    "        print('Yes!')\n",
    "    else:\n",
    "        print('Too bad!')"
   ]
  },
  {
   "cell_type": "raw",
   "id": "424f932c-b34d-45c5-80ac-18cd2929d131",
   "metadata": {},
   "source": [
    "# Dictionaries\n",
    "\n",
    "Stores data in key:value pairs\n",
    "\n",
    "TODO: explain dictionary here (set of variables)\n",
    "# Go over with mentors"
   ]
  },
  {
   "cell_type": "code",
   "execution_count": null,
   "id": "8c3fd1e0",
   "metadata": {},
   "outputs": [],
   "source": [
    "# Find the city value in the dictionary\n",
    "\n",
    "myself = {\n",
    "  \"name\": \"Bella\",\n",
    "  \"city\": \"Amsterdam\",\n",
    "  \"year\": 2023\n",
    "}\n",
    "print(myself[\"city\"])"
   ]
  },
  {
   "cell_type": "code",
   "execution_count": null,
   "id": "277640cb",
   "metadata": {},
   "outputs": [],
   "source": [
    "myself = {\n",
    "  \"name\": \"Bella\",\n",
    "  \"city\": \"Amsterdam\",\n",
    "  \"year\": 2023,\n",
    "  \"favorite_food\": [\"kofte\", \"shwarma\", \"steak\", \"fries\"]\n",
    "}\n",
    "print(myself[\"favorite_food\"])"
   ]
  },
  {
   "cell_type": "code",
   "execution_count": null,
   "id": "76632591",
   "metadata": {},
   "outputs": [],
   "source": [
    "# Length of the dictionary\n",
    "\n",
    "print(len(myself))\n"
   ]
  },
  {
   "cell_type": "code",
   "execution_count": null,
   "id": "a7378d62",
   "metadata": {},
   "outputs": [],
   "source": [
    "# show the city\n",
    "\n",
    "print(myself['city'])"
   ]
  },
  {
   "cell_type": "code",
   "execution_count": null,
   "id": "4f366b8c",
   "metadata": {},
   "outputs": [],
   "source": [
    "# TODO: add an example from the weather app with the same variables\n",
    "# TODO: create a dictionary with your details and print them"
   ]
  },
  {
   "cell_type": "markdown",
   "id": "97fe17b1-3cd5-48a1-a8fd-6ac974f3a291",
   "metadata": {},
   "source": [
    "# Bonus!\n",
    "\n",
    "Hey! you made it this far! first of all, good job!\n",
    "Are you bored? feeling adventurous? let's try another bonus :)\n",
    "\n",
    "Try to write Python code that prints a triangle with stars, such that its size is based on a given input n.\n",
    "for example, for n=3\n",
    "*\n",
    "* *\n",
    "\n",
    "for n = 1\n",
    "*\n",
    "\n",
    "for n = 5\n",
    "*\n",
    "* *\n",
    "* * *\n",
    "* * * *\n",
    "* * * * *\n",
    "\n",
    "etc..\n",
    "\n",
    "hint: as developers, when encountring a big problem we usually solve it by first dividing it into smaller problems.\n",
    "so maybe try to think of how you would print each line first, and then move to printing all the lines,\n",
    "for example, for the 3rd line, you need to print 3 stars right?\n",
    "for the 5th line you need to print 5 stars right?\n",
    "do you see where I'm getting at...? :)\n",
    "\n",
    "Good luck!\n"
   ]
  },
  {
   "cell_type": "code",
   "execution_count": null,
   "id": "15589127-77c2-4518-870c-50e2d9fcb386",
   "metadata": {},
   "outputs": [],
   "source": [
    "# Solution:\n",
    "n = 10\n",
    "\n",
    "for i in range(n):\n",
    "    line_string = \"\"\n",
    "    for j in range(i+1):\n",
    "        line_string = line_string + \"*\" + \" \"\n",
    "\n",
    "    print(line_string)\n",
    "        "
   ]
  },
  {
   "cell_type": "code",
   "execution_count": null,
   "id": "7c1e9570",
   "metadata": {},
   "outputs": [],
   "source": []
  }
 ],
 "metadata": {
  "kernelspec": {
   "display_name": "Python 3 (ipykernel)",
   "language": "python",
   "name": "python3"
  },
  "language_info": {
   "codemirror_mode": {
    "name": "ipython",
    "version": 3
   },
   "file_extension": ".py",
   "mimetype": "text/x-python",
   "name": "python",
   "nbconvert_exporter": "python",
   "pygments_lexer": "ipython3",
   "version": "3.11.5"
  }
 },
 "nbformat": 4,
 "nbformat_minor": 5
}
